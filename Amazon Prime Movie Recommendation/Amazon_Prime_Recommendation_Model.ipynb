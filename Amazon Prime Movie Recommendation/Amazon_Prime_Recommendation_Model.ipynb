{
 "cells": [
  {
   "cell_type": "markdown",
   "metadata": {
    "heading_collapsed": true
   },
   "source": [
    "### Description:\n",
    "\n",
    "The dataset provided contains movie reviews given by Amazon customers. Reviews were given between May 1996 and July 2014."
   ]
  },
  {
   "cell_type": "markdown",
   "metadata": {},
   "source": [
    "### Data Dictionary:\n",
    "UserID – 4848 customers who provided a rating for each movie<br>\n",
    "Movie 1 to Movie 206 – 206 movies for which ratings are provided by 4848 distinct users"
   ]
  },
  {
   "cell_type": "markdown",
   "metadata": {},
   "source": [
    "### Data Considerations:\n",
    "- All the users have not watched all the movies and therefore, all movies are not rated. These missing values are represented by NA.\n",
    "- Ratings are on a scale of -1 to 10 where -1 is the least rating and 10 is the best."
   ]
  },
  {
   "cell_type": "markdown",
   "metadata": {
    "heading_collapsed": true
   },
   "source": [
    "### Analysis Tasks:\n",
    "**1. Exploratory Data Analysis:**<br>\n",
    "\n",
    "1a) Which movies have maximum views/ratings?<br>\n",
    "1b)What is the average rating for each movie? Define the top 5 movies with the maximum ratings.<br>\n",
    "1c) Define the top 5 movies with the least audience.<br>"
   ]
  },
  {
   "cell_type": "markdown",
   "metadata": {
    "hidden": true
   },
   "source": [
    "#### 2. Recommendation Model: <br>\n",
    "Some of the movies hadn’t been watched and therefore, are not rated by the users. <br>Netflix would like to take this as an opportunity and build a machine learning recommendation algorithm which provides the ratings for each of the users.\n",
    "\n",
    "2a) Divide the data into training and test data<br>\n",
    "2b) Build a recommendation model on training data<br>\n",
    "2c) Make predictions on the test data"
   ]
  },
  {
   "cell_type": "markdown",
   "metadata": {
    "heading_collapsed": true
   },
   "source": [
    "### Dataset: \n",
    "'Amazon - Movies and TV Ratings.csv'"
   ]
  },
  {
   "cell_type": "markdown",
   "metadata": {
    "hidden": true
   },
   "source": [
    "#### EDA:"
   ]
  },
  {
   "cell_type": "code",
   "execution_count": null,
   "metadata": {
    "hidden": true
   },
   "outputs": [],
   "source": [
    "#importing libraries\n",
    "\n",
    "import pandas as pd\n",
    "import numpy as np\n",
    "import seaborn as sns\n",
    "import matplotlib.pyplot as plt\n",
    "\n",
    "%matplotlib inline"
   ]
  },
  {
   "cell_type": "code",
   "execution_count": null,
   "metadata": {
    "hidden": true
   },
   "outputs": [],
   "source": [
    "df = pd.read_csv('Amazon - Movies and TV Ratings.csv')\n",
    "df.head()"
   ]
  },
  {
   "cell_type": "code",
   "execution_count": null,
   "metadata": {
    "hidden": true
   },
   "outputs": [],
   "source": [
    "#Transpose of the .describe() matrix for better understanding of the dataset\n",
    "df.describe().T.head()"
   ]
  },
  {
   "cell_type": "markdown",
   "metadata": {
    "heading_collapsed": true
   },
   "source": [
    "### 1a) Which movies have maximum views/ratings? COUNT RATINGS"
   ]
  },
  {
   "cell_type": "code",
   "execution_count": null,
   "metadata": {
    "hidden": true
   },
   "outputs": [],
   "source": [
    "#Rating count per movie out of 4848 distinct users\n",
    "\n",
    "df.describe().T['count'].sort_values(ascending = False).head().to_frame()\n",
    "\n",
    "#Hence the the top 5 top movies as per the number of views/ratings are shown below:\n",
    "# Movie127    2313.0\n",
    "# Movie140     578.0\n",
    "# Movie16      320.0\n",
    "# Movie103     272.0\n",
    "# Movie29      243.0"
   ]
  },
  {
   "cell_type": "code",
   "execution_count": null,
   "metadata": {
    "hidden": true
   },
   "outputs": [],
   "source": [
    "#Sum of ratings\n",
    "df.drop('user_id',axis = 1).sum().sort_values(ascending = False).head().to_frame()"
   ]
  },
  {
   "cell_type": "markdown",
   "metadata": {
    "heading_collapsed": true
   },
   "source": [
    "### 1b)What is the average rating for each movie? Define the top 5 movies with the maximum ratings.\n",
    "\n",
    "There are a total of 4848 distinct customers.<br>\n",
    "Hence the average rating per movie = (sum of the ratings) / (Number of times the movie has been rated)"
   ]
  },
  {
   "cell_type": "code",
   "execution_count": null,
   "metadata": {
    "hidden": true
   },
   "outputs": [],
   "source": [
    "df.drop('user_id',axis = 1).mean().sort_values(ascending = False).head().to_frame()"
   ]
  },
  {
   "cell_type": "markdown",
   "metadata": {
    "heading_collapsed": true
   },
   "source": [
    "### 1c) Define the top 5 movies with the least audience."
   ]
  },
  {
   "cell_type": "code",
   "execution_count": null,
   "metadata": {
    "hidden": true
   },
   "outputs": [],
   "source": [
    "df.describe().T['count'].sort_values(ascending = True).head(5).to_frame()"
   ]
  },
  {
   "cell_type": "markdown",
   "metadata": {
    "hidden": true
   },
   "source": [
    "#### 2. Recommendation Model: <br>\n",
    "Some of the movies hadn’t been watched and therefore, are not rated by the users. <br>Netflix would like to take this as an opportunity and build a machine learning recommendation algorithm which provides the ratings for each of the users.\n",
    "\n",
    "2a) Divide the data into training and test data<br>\n",
    "2b) Build a recommendation model on training data<br>\n",
    "2c) Make predictions on the test data"
   ]
  },
  {
   "cell_type": "code",
   "execution_count": null,
   "metadata": {
    "hidden": true
   },
   "outputs": [],
   "source": [
    "df.head(2)"
   ]
  },
  {
   "cell_type": "code",
   "execution_count": null,
   "metadata": {
    "hidden": true
   },
   "outputs": [],
   "source": [
    "from surprise import Reader\n",
    "from surprise import accuracy\n",
    "from surprise.model_selection import train_test_split\n",
    "from surprise import Dataset"
   ]
  },
  {
   "cell_type": "markdown",
   "metadata": {
    "hidden": true
   },
   "source": [
    "**For us, all we need is userID | MovieID | Rating**"
   ]
  },
  {
   "cell_type": "code",
   "execution_count": null,
   "metadata": {
    "hidden": true
   },
   "outputs": [],
   "source": [
    "melt_df = df.melt(id_vars= df.columns[0], value_vars= df.columns[1:], var_name = 'movie_name', value_name = 'rating')\n",
    "melt_df.head()"
   ]
  },
  {
   "cell_type": "code",
   "execution_count": null,
   "metadata": {
    "hidden": true
   },
   "outputs": [],
   "source": [
    "reader = Reader(rating_scale=(-1,10))\n",
    "\n",
    "data = Dataset.load_from_df(melt_df.fillna(0), reader = reader)"
   ]
  },
  {
   "cell_type": "code",
   "execution_count": null,
   "metadata": {
    "hidden": true
   },
   "outputs": [],
   "source": []
  },
  {
   "cell_type": "markdown",
   "metadata": {
    "heading_collapsed": true
   },
   "source": [
    "### 2a) Divide the data into training and test data<br>"
   ]
  },
  {
   "cell_type": "code",
   "execution_count": null,
   "metadata": {
    "hidden": true
   },
   "outputs": [],
   "source": [
    "train_data, test_data = train_test_split(data, test_size=0.2)"
   ]
  },
  {
   "cell_type": "code",
   "execution_count": null,
   "metadata": {
    "hidden": true
   },
   "outputs": [],
   "source": [
    "#Algorithm = Singular Value Decomposition\n",
    "from surprise import SVD"
   ]
  },
  {
   "cell_type": "code",
   "execution_count": null,
   "metadata": {
    "hidden": true
   },
   "outputs": [],
   "source": [
    "algo = SVD()"
   ]
  },
  {
   "cell_type": "markdown",
   "metadata": {
    "heading_collapsed": true
   },
   "source": [
    "### 2b) Build a recommendation model on training data<br>"
   ]
  },
  {
   "cell_type": "code",
   "execution_count": null,
   "metadata": {
    "hidden": true
   },
   "outputs": [],
   "source": [
    "algo.fit(train_data)"
   ]
  },
  {
   "cell_type": "code",
   "execution_count": null,
   "metadata": {
    "hidden": true
   },
   "outputs": [],
   "source": [
    "pred = algo.test(test_data)"
   ]
  },
  {
   "cell_type": "code",
   "execution_count": null,
   "metadata": {
    "hidden": true
   },
   "outputs": [],
   "source": [
    "accuracy.rmse(predictions= pred)\n",
    "\n",
    "#melt_df.fillna(0): RMSE: 0.2810"
   ]
  },
  {
   "cell_type": "code",
   "execution_count": null,
   "metadata": {
    "hidden": true
   },
   "outputs": [],
   "source": [
    "#Prediction\n",
    "\n",
    "#Sample Input\n",
    "u_id, m_id, rat = ['A1CV1WROP5KTTW', 'Movie5', 5.0]\n",
    "\n",
    "algo.predict(u_id,m_id,rat, verbose = True)\n",
    "\n",
    "\n",
    "#user: A1CV1WROP5KTTW item: Movie5     r_ui = 5.00   est = 0.13   {'was_impossible': False}\n",
    "#Very Poor Prediction, fillna(0) is not working out well."
   ]
  },
  {
   "cell_type": "code",
   "execution_count": null,
   "metadata": {
    "hidden": true
   },
   "outputs": [],
   "source": [
    "#Cross Validation using surprise Library\n",
    "\n",
    "from surprise.model_selection import cross_validate"
   ]
  },
  {
   "cell_type": "code",
   "execution_count": null,
   "metadata": {
    "hidden": true
   },
   "outputs": [],
   "source": [
    "# cross_validate(algo, data, measures=['RMSE', 'MAE'], cv=3, verbose=True)\n",
    "\n",
    "# Evaluating RMSE, MAE of algorithm SVD on 3 split(s).\n",
    "\n",
    "#                   Fold 1  Fold 2  Fold 3  Mean    Std     \n",
    "# RMSE (testset)    0.2834  0.2867  0.2777  0.2826  0.0037  \n",
    "# MAE (testset)     0.0426  0.0431  0.0426  0.0428  0.0003  \n",
    "# Fit time          31.97   32.26   32.28   32.17   0.14    \n",
    "# Test time         3.81    3.81    3.29    3.64    0.25    "
   ]
  },
  {
   "cell_type": "code",
   "execution_count": null,
   "metadata": {
    "hidden": true
   },
   "outputs": [],
   "source": [
    "#RMSE = 0.2826. Let us try to reduce it, with cross validation."
   ]
  },
  {
   "cell_type": "markdown",
   "metadata": {
    "heading_collapsed": true
   },
   "source": [
    "### 2c) Make predictions on the test data<br>"
   ]
  },
  {
   "cell_type": "code",
   "execution_count": null,
   "metadata": {
    "hidden": true
   },
   "outputs": [],
   "source": [
    "def repeat(algo_type, frame, min_, max_):\n",
    "    reader = Reader(rating_scale=(min_, max_))\n",
    "    \n",
    "    data = Dataset.load_from_df(frame, reader= reader)\n",
    "    \n",
    "    algo = algo_type\n",
    "    \n",
    "    print(cross_validate(algo, data, measures=['RMSE', 'MAE'], cv=3, verbose=True))\n",
    "    \n",
    "    print(\"#\"*10)\n",
    "    \n",
    "#     u_id, m_id, rat = ['A1CV1WROP5KTTW', 'Movie5', 5.0]\n",
    "    u_id, m_id, rat = ['A3R5OBKS7OM2IR', 'Movie1', 5.0]\n",
    "\n",
    "    \n",
    "    print(algo.predict(u_id,m_id,rat, verbose = True))\n",
    "    \n",
    "    print(\"#\"*10)\n",
    "    print()"
   ]
  },
  {
   "cell_type": "code",
   "execution_count": null,
   "metadata": {
    "hidden": true
   },
   "outputs": [],
   "source": [
    "# df_1 = df.iloc[:1000, :50]\n",
    "# melt_df_1 = df.melt(id_vars= df.columns[0], value_vars= df.columns[1:], var_name = 'movie_name', value_name = 'rating')"
   ]
  },
  {
   "cell_type": "code",
   "execution_count": null,
   "metadata": {
    "hidden": true
   },
   "outputs": [],
   "source": [
    "repeat( SVD(), melt_df_1.fillna(0), 5, 10)\n",
    "\n",
    "# melt_df_1.fillna(0), 5, 10)\n",
    "# Evaluating RMSE, MAE of algorithm SVD on 3 split(s).\n",
    "\n",
    "#                   Fold 1  Fold 2  Fold 3  Mean    Std     \n",
    "# RMSE (testset)    4.9884  4.9884  4.9883  4.9884  0.0000  \n",
    "# MAE (testset)     4.9781  4.9781  4.9779  4.9780  0.0001  \n",
    "# Fit time          31.19   31.83   31.65   31.56   0.27    \n",
    "# Test time         2.74    3.06    2.73    2.84    0.15    \n",
    "# {'test_rmse': array([4.98839914, 4.98839824, 4.98834103]), 'test_mae': array([4.97814332, 4.97809226, 4.977894  ]), 'fit_time': (31.189449548721313, 31.83244276046753, 31.646572589874268), 'test_time': (2.7396697998046875, 3.0581066608428955, 2.729769229888916)}\n",
    "# ##########\n",
    "# user: A3R5OBKS7OM2IR item: Movie1     r_ui = 5.00   est = 5.00   {'was_impossible': False}"
   ]
  },
  {
   "cell_type": "code",
   "execution_count": null,
   "metadata": {
    "hidden": true
   },
   "outputs": [],
   "source": []
  },
  {
   "cell_type": "code",
   "execution_count": null,
   "metadata": {
    "hidden": true
   },
   "outputs": [],
   "source": []
  },
  {
   "cell_type": "code",
   "execution_count": null,
   "metadata": {
    "hidden": true
   },
   "outputs": [],
   "source": []
  },
  {
   "cell_type": "code",
   "execution_count": null,
   "metadata": {
    "hidden": true
   },
   "outputs": [],
   "source": []
  },
  {
   "cell_type": "code",
   "execution_count": null,
   "metadata": {
    "hidden": true
   },
   "outputs": [],
   "source": []
  },
  {
   "cell_type": "code",
   "execution_count": null,
   "metadata": {
    "hidden": true
   },
   "outputs": [],
   "source": []
  },
  {
   "cell_type": "code",
   "execution_count": null,
   "metadata": {
    "hidden": true
   },
   "outputs": [],
   "source": []
  }
 ],
 "metadata": {
  "kernelspec": {
   "display_name": "Python 3",
   "language": "python",
   "name": "python3"
  },
  "language_info": {
   "codemirror_mode": {
    "name": "ipython",
    "version": 3
   },
   "file_extension": ".py",
   "mimetype": "text/x-python",
   "name": "python",
   "nbconvert_exporter": "python",
   "pygments_lexer": "ipython3",
   "version": "3.7.6"
  },
  "toc": {
   "base_numbering": 1,
   "nav_menu": {},
   "number_sections": true,
   "sideBar": true,
   "skip_h1_title": false,
   "title_cell": "Table of Contents",
   "title_sidebar": "Contents",
   "toc_cell": false,
   "toc_position": {},
   "toc_section_display": true,
   "toc_window_display": false
  }
 },
 "nbformat": 4,
 "nbformat_minor": 2
}
