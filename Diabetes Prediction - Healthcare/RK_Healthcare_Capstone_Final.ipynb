{
 "cells": [
  {
   "cell_type": "markdown",
   "metadata": {},
   "source": [
    "[Click here for the Tableau Public link](https://public.tableau.com/views/CapstoneHC/Dashboard1?:language=en&:display_count=y&publish=yes&:origin=viz_share_link)"
   ]
  },
  {
   "cell_type": "markdown",
   "metadata": {},
   "source": [
    "# Importing Basic Libraries and Dataset"
   ]
  },
  {
   "cell_type": "code",
   "execution_count": 1,
   "metadata": {},
   "outputs": [],
   "source": [
    "from imblearn.combine import SMOTETomek\n",
    "from sklearn.preprocessing import MinMaxScaler\n",
    "import pandas as pd\n",
    "import numpy as np\n",
    "import seaborn as sns\n",
    "import matplotlib.pyplot as plt\n",
    "import sweetviz as sv\n",
    "from termcolor import colored\n",
    "from sklearn.model_selection import train_test_split\n",
    "from sklearn.metrics import confusion_matrix\n",
    "from sklearn.metrics import classification_report\n",
    "from sklearn.metrics import roc_curve\n",
    "from sklearn.metrics import roc_auc_score\n",
    "from sklearn.metrics import precision_recall_curve\n",
    "from sklearn.metrics import auc\n",
    "\n",
    "from collections import Counter\n",
    "\n",
    "import warnings\n",
    "warnings.filterwarnings(\"ignore\")\n",
    "\n",
    "\n",
    "%matplotlib inline"
   ]
  },
  {
   "cell_type": "code",
   "execution_count": 2,
   "metadata": {
    "cell_style": "center"
   },
   "outputs": [],
   "source": [
    "df = pd.read_csv('../Dataset/health care diabetes.csv')\n",
    "\n",
    "df_copy = df.copy()"
   ]
  },
  {
   "cell_type": "code",
   "execution_count": 3,
   "metadata": {},
   "outputs": [
    {
     "data": {
      "text/plain": [
       "(768, 9)"
      ]
     },
     "execution_count": 3,
     "metadata": {},
     "output_type": "execute_result"
    }
   ],
   "source": [
    "df.shape # Check the shape of the dataset"
   ]
  },
  {
   "cell_type": "code",
   "execution_count": 4,
   "metadata": {
    "cell_style": "center"
   },
   "outputs": [],
   "source": [
    "# my_report = sv.analyze([df, \"Healthcare Diabetes\"], \"Outcome\")\n",
    "# report_url = \"file:///C:/Users/kunte/Desktop/Ongoing%20Project/Capstone%20Healthcare/RK_codes/Healthcare%20Diabetes%20Report.html\"\n",
    "# my_report.show_html()"
   ]
  },
  {
   "cell_type": "code",
   "execution_count": 5,
   "metadata": {},
   "outputs": [],
   "source": [
    "feat_colNames = ['Pregnancies', 'Glucose', 'BloodPressure',\n",
    "                 'SkinThickness', 'Insulin', 'BMI', 'DiabetesPedigreeFunction', 'Age']\n",
    "label_colName = ['Outcome']"
   ]
  },
  {
   "cell_type": "code",
   "execution_count": 6,
   "metadata": {
    "cell_style": "center",
    "scrolled": true
   },
   "outputs": [
    {
     "data": {
      "text/html": [
       "<div>\n",
       "<style scoped>\n",
       "    .dataframe tbody tr th:only-of-type {\n",
       "        vertical-align: middle;\n",
       "    }\n",
       "\n",
       "    .dataframe tbody tr th {\n",
       "        vertical-align: top;\n",
       "    }\n",
       "\n",
       "    .dataframe thead th {\n",
       "        text-align: right;\n",
       "    }\n",
       "</style>\n",
       "<table border=\"1\" class=\"dataframe\">\n",
       "  <thead>\n",
       "    <tr style=\"text-align: right;\">\n",
       "      <th></th>\n",
       "      <th>Pregnancies</th>\n",
       "      <th>Glucose</th>\n",
       "      <th>BloodPressure</th>\n",
       "      <th>SkinThickness</th>\n",
       "      <th>Insulin</th>\n",
       "      <th>BMI</th>\n",
       "      <th>DiabetesPedigreeFunction</th>\n",
       "      <th>Age</th>\n",
       "      <th>Outcome</th>\n",
       "    </tr>\n",
       "  </thead>\n",
       "  <tbody>\n",
       "    <tr>\n",
       "      <th>0</th>\n",
       "      <td>6</td>\n",
       "      <td>148</td>\n",
       "      <td>72</td>\n",
       "      <td>35</td>\n",
       "      <td>0</td>\n",
       "      <td>33.6</td>\n",
       "      <td>0.627</td>\n",
       "      <td>50</td>\n",
       "      <td>1</td>\n",
       "    </tr>\n",
       "    <tr>\n",
       "      <th>1</th>\n",
       "      <td>1</td>\n",
       "      <td>85</td>\n",
       "      <td>66</td>\n",
       "      <td>29</td>\n",
       "      <td>0</td>\n",
       "      <td>26.6</td>\n",
       "      <td>0.351</td>\n",
       "      <td>31</td>\n",
       "      <td>0</td>\n",
       "    </tr>\n",
       "    <tr>\n",
       "      <th>2</th>\n",
       "      <td>8</td>\n",
       "      <td>183</td>\n",
       "      <td>64</td>\n",
       "      <td>0</td>\n",
       "      <td>0</td>\n",
       "      <td>23.3</td>\n",
       "      <td>0.672</td>\n",
       "      <td>32</td>\n",
       "      <td>1</td>\n",
       "    </tr>\n",
       "    <tr>\n",
       "      <th>3</th>\n",
       "      <td>1</td>\n",
       "      <td>89</td>\n",
       "      <td>66</td>\n",
       "      <td>23</td>\n",
       "      <td>94</td>\n",
       "      <td>28.1</td>\n",
       "      <td>0.167</td>\n",
       "      <td>21</td>\n",
       "      <td>0</td>\n",
       "    </tr>\n",
       "    <tr>\n",
       "      <th>4</th>\n",
       "      <td>0</td>\n",
       "      <td>137</td>\n",
       "      <td>40</td>\n",
       "      <td>35</td>\n",
       "      <td>168</td>\n",
       "      <td>43.1</td>\n",
       "      <td>2.288</td>\n",
       "      <td>33</td>\n",
       "      <td>1</td>\n",
       "    </tr>\n",
       "  </tbody>\n",
       "</table>\n",
       "</div>"
      ],
      "text/plain": [
       "   Pregnancies  Glucose  BloodPressure  SkinThickness  Insulin   BMI  \\\n",
       "0            6      148             72             35        0  33.6   \n",
       "1            1       85             66             29        0  26.6   \n",
       "2            8      183             64              0        0  23.3   \n",
       "3            1       89             66             23       94  28.1   \n",
       "4            0      137             40             35      168  43.1   \n",
       "\n",
       "   DiabetesPedigreeFunction  Age  Outcome  \n",
       "0                     0.627   50        1  \n",
       "1                     0.351   31        0  \n",
       "2                     0.672   32        1  \n",
       "3                     0.167   21        0  \n",
       "4                     2.288   33        1  "
      ]
     },
     "execution_count": 6,
     "metadata": {},
     "output_type": "execute_result"
    }
   ],
   "source": [
    "df.head()"
   ]
  },
  {
   "cell_type": "code",
   "execution_count": 7,
   "metadata": {
    "cell_style": "center"
   },
   "outputs": [
    {
     "name": "stdout",
     "output_type": "stream",
     "text": [
      "<class 'pandas.core.frame.DataFrame'>\n",
      "RangeIndex: 768 entries, 0 to 767\n",
      "Data columns (total 9 columns):\n",
      " #   Column                    Non-Null Count  Dtype  \n",
      "---  ------                    --------------  -----  \n",
      " 0   Pregnancies               768 non-null    int64  \n",
      " 1   Glucose                   768 non-null    int64  \n",
      " 2   BloodPressure             768 non-null    int64  \n",
      " 3   SkinThickness             768 non-null    int64  \n",
      " 4   Insulin                   768 non-null    int64  \n",
      " 5   BMI                       768 non-null    float64\n",
      " 6   DiabetesPedigreeFunction  768 non-null    float64\n",
      " 7   Age                       768 non-null    int64  \n",
      " 8   Outcome                   768 non-null    int64  \n",
      "dtypes: float64(2), int64(7)\n",
      "memory usage: 54.1 KB\n"
     ]
    }
   ],
   "source": [
    "df.info() #Check for Missing Data"
   ]
  },
  {
   "cell_type": "code",
   "execution_count": 8,
   "metadata": {},
   "outputs": [
    {
     "data": {
      "text/html": [
       "<div>\n",
       "<style scoped>\n",
       "    .dataframe tbody tr th:only-of-type {\n",
       "        vertical-align: middle;\n",
       "    }\n",
       "\n",
       "    .dataframe tbody tr th {\n",
       "        vertical-align: top;\n",
       "    }\n",
       "\n",
       "    .dataframe thead th {\n",
       "        text-align: right;\n",
       "    }\n",
       "</style>\n",
       "<table border=\"1\" class=\"dataframe\">\n",
       "  <thead>\n",
       "    <tr style=\"text-align: right;\">\n",
       "      <th></th>\n",
       "      <th>Pregnancies</th>\n",
       "      <th>Glucose</th>\n",
       "      <th>BloodPressure</th>\n",
       "      <th>SkinThickness</th>\n",
       "      <th>Insulin</th>\n",
       "      <th>BMI</th>\n",
       "      <th>DiabetesPedigreeFunction</th>\n",
       "      <th>Age</th>\n",
       "      <th>Outcome</th>\n",
       "    </tr>\n",
       "  </thead>\n",
       "  <tbody>\n",
       "    <tr>\n",
       "      <th>count</th>\n",
       "      <td>768.000000</td>\n",
       "      <td>768.000000</td>\n",
       "      <td>768.000000</td>\n",
       "      <td>768.000000</td>\n",
       "      <td>768.000000</td>\n",
       "      <td>768.000000</td>\n",
       "      <td>768.000000</td>\n",
       "      <td>768.000000</td>\n",
       "      <td>768.000000</td>\n",
       "    </tr>\n",
       "    <tr>\n",
       "      <th>mean</th>\n",
       "      <td>3.845052</td>\n",
       "      <td>120.894531</td>\n",
       "      <td>69.105469</td>\n",
       "      <td>20.536458</td>\n",
       "      <td>79.799479</td>\n",
       "      <td>31.992578</td>\n",
       "      <td>0.471876</td>\n",
       "      <td>33.240885</td>\n",
       "      <td>0.348958</td>\n",
       "    </tr>\n",
       "    <tr>\n",
       "      <th>std</th>\n",
       "      <td>3.369578</td>\n",
       "      <td>31.972618</td>\n",
       "      <td>19.355807</td>\n",
       "      <td>15.952218</td>\n",
       "      <td>115.244002</td>\n",
       "      <td>7.884160</td>\n",
       "      <td>0.331329</td>\n",
       "      <td>11.760232</td>\n",
       "      <td>0.476951</td>\n",
       "    </tr>\n",
       "    <tr>\n",
       "      <th>min</th>\n",
       "      <td>0.000000</td>\n",
       "      <td>0.000000</td>\n",
       "      <td>0.000000</td>\n",
       "      <td>0.000000</td>\n",
       "      <td>0.000000</td>\n",
       "      <td>0.000000</td>\n",
       "      <td>0.078000</td>\n",
       "      <td>21.000000</td>\n",
       "      <td>0.000000</td>\n",
       "    </tr>\n",
       "    <tr>\n",
       "      <th>25%</th>\n",
       "      <td>1.000000</td>\n",
       "      <td>99.000000</td>\n",
       "      <td>62.000000</td>\n",
       "      <td>0.000000</td>\n",
       "      <td>0.000000</td>\n",
       "      <td>27.300000</td>\n",
       "      <td>0.243750</td>\n",
       "      <td>24.000000</td>\n",
       "      <td>0.000000</td>\n",
       "    </tr>\n",
       "    <tr>\n",
       "      <th>50%</th>\n",
       "      <td>3.000000</td>\n",
       "      <td>117.000000</td>\n",
       "      <td>72.000000</td>\n",
       "      <td>23.000000</td>\n",
       "      <td>30.500000</td>\n",
       "      <td>32.000000</td>\n",
       "      <td>0.372500</td>\n",
       "      <td>29.000000</td>\n",
       "      <td>0.000000</td>\n",
       "    </tr>\n",
       "    <tr>\n",
       "      <th>75%</th>\n",
       "      <td>6.000000</td>\n",
       "      <td>140.250000</td>\n",
       "      <td>80.000000</td>\n",
       "      <td>32.000000</td>\n",
       "      <td>127.250000</td>\n",
       "      <td>36.600000</td>\n",
       "      <td>0.626250</td>\n",
       "      <td>41.000000</td>\n",
       "      <td>1.000000</td>\n",
       "    </tr>\n",
       "    <tr>\n",
       "      <th>max</th>\n",
       "      <td>17.000000</td>\n",
       "      <td>199.000000</td>\n",
       "      <td>122.000000</td>\n",
       "      <td>99.000000</td>\n",
       "      <td>846.000000</td>\n",
       "      <td>67.100000</td>\n",
       "      <td>2.420000</td>\n",
       "      <td>81.000000</td>\n",
       "      <td>1.000000</td>\n",
       "    </tr>\n",
       "  </tbody>\n",
       "</table>\n",
       "</div>"
      ],
      "text/plain": [
       "       Pregnancies     Glucose  BloodPressure  SkinThickness     Insulin  \\\n",
       "count   768.000000  768.000000     768.000000     768.000000  768.000000   \n",
       "mean      3.845052  120.894531      69.105469      20.536458   79.799479   \n",
       "std       3.369578   31.972618      19.355807      15.952218  115.244002   \n",
       "min       0.000000    0.000000       0.000000       0.000000    0.000000   \n",
       "25%       1.000000   99.000000      62.000000       0.000000    0.000000   \n",
       "50%       3.000000  117.000000      72.000000      23.000000   30.500000   \n",
       "75%       6.000000  140.250000      80.000000      32.000000  127.250000   \n",
       "max      17.000000  199.000000     122.000000      99.000000  846.000000   \n",
       "\n",
       "              BMI  DiabetesPedigreeFunction         Age     Outcome  \n",
       "count  768.000000                768.000000  768.000000  768.000000  \n",
       "mean    31.992578                  0.471876   33.240885    0.348958  \n",
       "std      7.884160                  0.331329   11.760232    0.476951  \n",
       "min      0.000000                  0.078000   21.000000    0.000000  \n",
       "25%     27.300000                  0.243750   24.000000    0.000000  \n",
       "50%     32.000000                  0.372500   29.000000    0.000000  \n",
       "75%     36.600000                  0.626250   41.000000    1.000000  \n",
       "max     67.100000                  2.420000   81.000000    1.000000  "
      ]
     },
     "execution_count": 8,
     "metadata": {},
     "output_type": "execute_result"
    }
   ],
   "source": [
    "df.describe()"
   ]
  },
  {
   "cell_type": "markdown",
   "metadata": {},
   "source": [
    "# Checking and Handling Inappropriate Data"
   ]
  },
  {
   "cell_type": "markdown",
   "metadata": {},
   "source": [
    "## Check for Duplicate Rows and Cols"
   ]
  },
  {
   "cell_type": "code",
   "execution_count": 9,
   "metadata": {},
   "outputs": [
    {
     "name": "stdout",
     "output_type": "stream",
     "text": [
      "No duplicate Rows and Columns\n"
     ]
    }
   ],
   "source": [
    "# No duplicate Rows and Columns\n",
    "\n",
    "df.drop_duplicates(inplace=True)\n",
    "df.set_index(np.arange(0,len(df)) , inplace=False)\n",
    "df.columns \n",
    "\n",
    "print(\"No duplicate Rows and Columns\")"
   ]
  },
  {
   "cell_type": "code",
   "execution_count": 10,
   "metadata": {
    "scrolled": false
   },
   "outputs": [
    {
     "data": {
      "image/png": "[encoded data removed]",
      "text/plain": [
       "<Figure size 1152x360 with 8 Axes>"
      ]
     },
     "metadata": {
      "needs_background": "light"
     },
     "output_type": "display_data"
    }
   ],
   "source": [
    "#fig and axs variable for creating a sub-plot of (2 rows, 4 columns) with figure size (hor,ver)\n",
    "\n",
    "fig, axs = plt.subplots(2, 4, figsize=(16, 5))\n",
    "\n",
    "axs[0, 0].hist(df.Pregnancies, bins=30)\n",
    "axs[0, 1].hist(df.Glucose, bins=30)\n",
    "axs[0, 2].hist(df.BloodPressure, bins=30)\n",
    "axs[0, 3].hist(df.SkinThickness, bins=30)\n",
    "axs[1, 0].hist(df.Insulin, bins=30)\n",
    "axs[1, 1].hist(df.BMI, bins=30)\n",
    "axs[1, 2].hist(df.DiabetesPedigreeFunction, bins=30)\n",
    "axs[1, 3].hist(df.Age, bins=30)\n",
    "\n",
    "\n",
    "axs[0, 0].set_title(\"Pregnancies\")\n",
    "axs[0, 1].set_title(\"Glucose (Inappropriate Zeros)\", color='C3')\n",
    "axs[0, 2].set_title(\"BloodPressure (Inappropriate Zeros)\", color='C3')\n",
    "axs[0, 3].set_title(\"SkinThickness (Inappropriate Zeros)\", color='C3')\n",
    "axs[1, 0].set_title(\"Insulin (Inappropriate Zeros)\", color='C3')\n",
    "axs[1, 1].set_title(\"BMI (Inappropriate Zeros)\", color='C3')\n",
    "axs[1, 2].set_title(\"Diabetes Pedigree Function\")\n",
    "axs[1, 3].set_title(\"Age\")\n",
    "\n",
    "fig.suptitle('Data Distribution Before EDA', fontsize=16)\n",
    "plt.subplots_adjust(hspace=0.4, wspace=0.2)  #This is to avoid overlapping "
   ]
  },
  {
   "cell_type": "markdown",
   "metadata": {},
   "source": [
    "## Dealing with the Inappropriate Zero Values: According to Domain Knowledge"
   ]
  },
  {
   "cell_type": "code",
   "execution_count": 11,
   "metadata": {
    "scrolled": true
   },
   "outputs": [
    {
     "name": "stdout",
     "output_type": "stream",
     "text": [
      "Glucose: 5 zero(s) | 0.65%\n",
      "BloodPressure: 35 zero(s) | 4.56%\n",
      "SkinThickness: 227 zero(s) | 29.56%\n",
      "Insulin: 374 zero(s) | 48.70%\n",
      "BMI: 11 zero(s) | 1.43%\n",
      "\n",
      "----------------------------------------------\n",
      "\n",
      "Glucose: 0 zero(s) replaced with NaN.\n",
      "BloodPressure: 0 zero(s) replaced with NaN.\n",
      "SkinThickness: 0 zero(s) replaced with NaN.\n",
      "Insulin: 0 zero(s) replaced with NaN.\n",
      "BMI: 0 zero(s) replaced with NaN.\n"
     ]
    }
   ],
   "source": [
    "#Following are the Columns where '0' is a placeholder to indicate that the record was missing / uncaptured. ['inapp_cols']\n",
    "\n",
    "inapp_cols = [\"Glucose\", \"BloodPressure\", \"SkinThickness\", \"Insulin\", \"BMI\"]\n",
    "\n",
    "tot = int(df.shape[0]) #total number of records\n",
    "\n",
    "for col in inapp_cols:\n",
    "    print(\"{}: {} zero(s) | {:.2f}%\".format(col,(len(df[(df[col] == 0)])),((len(df[(df[col] == 0)]))/tot)*100))\n",
    "    df[col].loc[df[col] == 0] = np.nan\n",
    "    \n",
    "print(\"\\n----------------------------------------------\\n\")\n",
    "\n",
    "for col in inapp_cols:\n",
    "    print(\"{}: {} zero(s) replaced with NaN.\".format(col,(len(df[(df[col] == 0)]))))\n",
    "    df[col].loc[df[col] == 0] = np.nan"
   ]
  },
  {
   "cell_type": "markdown",
   "metadata": {},
   "source": [
    "# Checking and Handling 'Missing Data'"
   ]
  },
  {
   "cell_type": "markdown",
   "metadata": {},
   "source": [
    "Glucose: 5 zero(s) | __0.65%__<br>\n",
    "BloodPressure: 35 zero(s) | __04.56%__ <br>\n",
    "SkinThickness: 227 zero(s) | __029.56%__ <br>\n",
    "Insulin: 374 zero(s) | __048.70%__ <br>\n",
    "BMI: 11 zero(s) | __01.43%__"
   ]
  },
  {
   "cell_type": "markdown",
   "metadata": {
    "cell_style": "center"
   },
   "source": [
    "## Replace Missing Values with the Column Mean/Median/Mode"
   ]
  },
  {
   "cell_type": "code",
   "execution_count": 12,
   "metadata": {
    "cell_style": "center"
   },
   "outputs": [],
   "source": [
    "df.Glucose.fillna(int(df.Glucose.mean()), inplace=True)                    \n",
    "df.BloodPressure.fillna(int(df.BloodPressure.mean()), inplace=True)      \n",
    "df.SkinThickness.fillna(int(df.SkinThickness.mean()), inplace=True)      \n",
    "df.Insulin.fillna(int(df.Insulin.mean()), inplace=True)                  \n",
    "df.BMI.fillna(df.BMI.mean(), inplace=True)    \n",
    "\n",
    "#There is scope of improvement here :\n",
    "# - We can fill the NaN values with a multi variate regressor for 'SkinThickness' and 'Insulin' "
   ]
  },
  {
   "cell_type": "code",
   "execution_count": 13,
   "metadata": {
    "cell_style": "center",
    "scrolled": false
   },
   "outputs": [
    {
     "data": {
      "image/png": "[encoded data removed]",
      "text/plain": [
       "<Figure size 1296x216 with 5 Axes>"
      ]
     },
     "metadata": {
      "needs_background": "light"
     },
     "output_type": "display_data"
    }
   ],
   "source": [
    "fig_1, axs_1 = plt.subplots(1, 5, figsize=(18, 3))\n",
    "\n",
    "axs_1[0].hist(df.BMI, bins=30)\n",
    "axs_1[1].hist(df.Glucose, bins=30)\n",
    "axs_1[2].hist(df.BloodPressure, bins=30)\n",
    "axs_1[3].hist(df.SkinThickness, bins=30)\n",
    "axs_1[4].hist(df.Insulin, bins=30)\n",
    "\n",
    "axs_1[0].set_title(\"BMI\")\n",
    "axs_1[1].set_title(\"Glucose\")\n",
    "axs_1[2].set_title(\"BloodPressure\")\n",
    "axs_1[3].set_title(\"SkinThickness\")\n",
    "axs_1[4].set_title(\"Insulin\")\n",
    "\n",
    "fig_1.suptitle('Data Distribution (Inappropriate Zeros Removed)', fontsize=16)\n",
    "plt.subplots_adjust(top= 0.8, hspace=0.4, wspace=0.2)  #This is to avoid overlapping "
   ]
  },
  {
   "cell_type": "code",
   "execution_count": 14,
   "metadata": {},
   "outputs": [],
   "source": [
    "df.to_csv('Diabetes Data.csv', encoding='utf-8')"
   ]
  },
  {
   "cell_type": "markdown",
   "metadata": {},
   "source": [
    "# Distribution Analysis"
   ]
  },
  {
   "cell_type": "code",
   "execution_count": 15,
   "metadata": {
    "scrolled": true
   },
   "outputs": [
    {
     "data": {
      "image/png": "[encoded data removed]",
      "text/plain": [
       "<Figure size 1152x360 with 8 Axes>"
      ]
     },
     "metadata": {
      "needs_background": "light"
     },
     "output_type": "display_data"
    }
   ],
   "source": [
    "fig_1, axs_1 = plt.subplots(2, 4, figsize=(16, 5))\n",
    "\n",
    "axs_1[0, 0].hist(df.Pregnancies, bins= 15)\n",
    "axs_1[0, 1].hist(df.Glucose, bins=30)\n",
    "axs_1[0, 2].hist(df.BloodPressure, bins=30)\n",
    "axs_1[0, 3].hist(df.SkinThickness, bins=30)\n",
    "axs_1[1, 0].hist(df.Insulin, bins=30)\n",
    "axs_1[1, 1].hist(df.BMI, bins=30)\n",
    "axs_1[1, 2].hist(df.DiabetesPedigreeFunction, bins=30)\n",
    "axs_1[1, 3].hist(df.Age, bins=30)\n",
    "\n",
    "\n",
    "axs_1[0, 0].set_title(\"Pregnancies\")\n",
    "axs_1[0, 1].set_title(\"Glucose\")\n",
    "axs_1[0, 2].set_title(\"Blood Pressure\")\n",
    "axs_1[0, 3].set_title(\"SkinThickness\")\n",
    "axs_1[1, 0].set_title(\"Insulin\")\n",
    "axs_1[1, 1].set_title(\"BMI\")\n",
    "axs_1[1, 2].set_title(\"Diabetes Pedigree Function\")\n",
    "axs_1[1, 3].set_title(\"Age\")\n",
    "\n",
    "fig_1.suptitle('Data Distribution After Handling Inappropriate / Missing Data', fontsize=16)\n",
    "plt.subplots_adjust(hspace=0.4, wspace=0.2)  #This is to avoid overlapping "
   ]
  },
  {
   "cell_type": "markdown",
   "metadata": {},
   "source": [
    "__Top 3 Most Common Values__"
   ]
  },
  {
   "cell_type": "code",
   "execution_count": 16,
   "metadata": {
    "cell_style": "center"
   },
   "outputs": [],
   "source": [
    "col_1 = ['Pregnancies', 'Glucose', 'BloodPressure', 'SkinThickness']\n",
    "col_2 = ['Insulin', 'BMI', 'DiabetesPedigreeFunction', 'Age']"
   ]
  },
  {
   "cell_type": "code",
   "execution_count": 17,
   "metadata": {
    "cell_style": "split",
    "scrolled": true
   },
   "outputs": [
    {
     "name": "stdout",
     "output_type": "stream",
     "text": [
      "1    135\n",
      "0    111\n",
      "2    103\n",
      "Name: Pregnancies, dtype: int64 \n",
      "\n",
      "100.0    17\n",
      "99.0     17\n",
      "111.0    14\n",
      "Name: Glucose, dtype: int64 \n",
      "\n",
      "72.0    79\n",
      "70.0    57\n",
      "74.0    52\n",
      "Name: BloodPressure, dtype: int64 \n",
      "\n",
      "29.0    244\n",
      "32.0     31\n",
      "30.0     27\n",
      "Name: SkinThickness, dtype: int64 \n",
      "\n"
     ]
    }
   ],
   "source": [
    "for col in col_1:\n",
    "    print(df[col].value_counts().head(3),\"\\n\")"
   ]
  },
  {
   "cell_type": "code",
   "execution_count": 18,
   "metadata": {
    "cell_style": "split",
    "scrolled": true
   },
   "outputs": [
    {
     "name": "stdout",
     "output_type": "stream",
     "text": [
      "155.0    378\n",
      "105.0     11\n",
      "140.0      9\n",
      "Name: Insulin, dtype: int64 \n",
      "\n",
      "32.0    13\n",
      "31.2    12\n",
      "31.6    12\n",
      "Name: BMI, dtype: int64 \n",
      "\n",
      "0.254    6\n",
      "0.258    6\n",
      "0.259    5\n",
      "Name: DiabetesPedigreeFunction, dtype: int64 \n",
      "\n",
      "22    72\n",
      "21    63\n",
      "25    48\n",
      "Name: Age, dtype: int64 \n",
      "\n"
     ]
    }
   ],
   "source": [
    "for col in col_2:\n",
    "    print(df[col].value_counts().head(3),\"\\n\")"
   ]
  },
  {
   "cell_type": "markdown",
   "metadata": {},
   "source": [
    "## Normalised Dataset"
   ]
  },
  {
   "cell_type": "code",
   "execution_count": 19,
   "metadata": {},
   "outputs": [],
   "source": [
    "scaler = MinMaxScaler()\n",
    "\n",
    "df_norm = df\n",
    "df_norm = scaler.fit_transform(df)\n",
    "df_norm= pd.DataFrame(df_norm, columns= df.columns)"
   ]
  },
  {
   "cell_type": "markdown",
   "metadata": {},
   "source": [
    "# Checking and Handling Unbalanced Dataset"
   ]
  },
  {
   "cell_type": "markdown",
   "metadata": {
    "heading_collapsed": true
   },
   "source": [
    "## Over Sampling using SMOTETomek"
   ]
  },
  {
   "cell_type": "code",
   "execution_count": 20,
   "metadata": {
    "hidden": true
   },
   "outputs": [
    {
     "name": "stdout",
     "output_type": "stream",
     "text": [
      "\u001b[5m\u001b[7m\u001b[1m\u001b[32mChecking Data Distribution (Bal/Unbal?)\u001b[0m\n",
      "Negatives: 500\n",
      "Positives: 268\n",
      "\n",
      "\u001b[5m\u001b[7m\u001b[1m\u001b[36mAfter Over-Sampling\u001b[0m\n",
      "Original dataset shape Counter({0: 500, 1: 268})\n",
      "Resampled dataset shape Counter({1: 477, 0: 477})\n",
      "\n",
      "Original Dataset Shape: (768, 9)\n",
      "Post Over-Sampling Dataset Shape: (954, 9)\n"
     ]
    },
    {
     "data": {
      "text/html": [
       "<div>\n",
       "<style scoped>\n",
       "    .dataframe tbody tr th:only-of-type {\n",
       "        vertical-align: middle;\n",
       "    }\n",
       "\n",
       "    .dataframe tbody tr th {\n",
       "        vertical-align: top;\n",
       "    }\n",
       "\n",
       "    .dataframe thead th {\n",
       "        text-align: right;\n",
       "    }\n",
       "</style>\n",
       "<table border=\"1\" class=\"dataframe\">\n",
       "  <thead>\n",
       "    <tr style=\"text-align: right;\">\n",
       "      <th></th>\n",
       "      <th>Pregnancies</th>\n",
       "      <th>Glucose</th>\n",
       "      <th>BloodPressure</th>\n",
       "      <th>SkinThickness</th>\n",
       "      <th>Insulin</th>\n",
       "      <th>BMI</th>\n",
       "      <th>DiabetesPedigreeFunction</th>\n",
       "      <th>Age</th>\n",
       "      <th>Outcome</th>\n",
       "    </tr>\n",
       "  </thead>\n",
       "  <tbody>\n",
       "    <tr>\n",
       "      <th>0</th>\n",
       "      <td>6.0</td>\n",
       "      <td>148.0</td>\n",
       "      <td>72.0</td>\n",
       "      <td>35.0</td>\n",
       "      <td>155.0</td>\n",
       "      <td>33.6</td>\n",
       "      <td>0.627</td>\n",
       "      <td>50.0</td>\n",
       "      <td>1</td>\n",
       "    </tr>\n",
       "    <tr>\n",
       "      <th>1</th>\n",
       "      <td>1.0</td>\n",
       "      <td>85.0</td>\n",
       "      <td>66.0</td>\n",
       "      <td>29.0</td>\n",
       "      <td>155.0</td>\n",
       "      <td>26.6</td>\n",
       "      <td>0.351</td>\n",
       "      <td>31.0</td>\n",
       "      <td>0</td>\n",
       "    </tr>\n",
       "    <tr>\n",
       "      <th>2</th>\n",
       "      <td>8.0</td>\n",
       "      <td>183.0</td>\n",
       "      <td>64.0</td>\n",
       "      <td>29.0</td>\n",
       "      <td>155.0</td>\n",
       "      <td>23.3</td>\n",
       "      <td>0.672</td>\n",
       "      <td>32.0</td>\n",
       "      <td>1</td>\n",
       "    </tr>\n",
       "    <tr>\n",
       "      <th>3</th>\n",
       "      <td>1.0</td>\n",
       "      <td>89.0</td>\n",
       "      <td>66.0</td>\n",
       "      <td>23.0</td>\n",
       "      <td>94.0</td>\n",
       "      <td>28.1</td>\n",
       "      <td>0.167</td>\n",
       "      <td>21.0</td>\n",
       "      <td>0</td>\n",
       "    </tr>\n",
       "    <tr>\n",
       "      <th>4</th>\n",
       "      <td>0.0</td>\n",
       "      <td>137.0</td>\n",
       "      <td>40.0</td>\n",
       "      <td>35.0</td>\n",
       "      <td>168.0</td>\n",
       "      <td>43.1</td>\n",
       "      <td>2.288</td>\n",
       "      <td>33.0</td>\n",
       "      <td>1</td>\n",
       "    </tr>\n",
       "  </tbody>\n",
       "</table>\n",
       "</div>"
      ],
      "text/plain": [
       "   Pregnancies  Glucose  BloodPressure  SkinThickness  Insulin   BMI  \\\n",
       "0          6.0    148.0           72.0           35.0    155.0  33.6   \n",
       "1          1.0     85.0           66.0           29.0    155.0  26.6   \n",
       "2          8.0    183.0           64.0           29.0    155.0  23.3   \n",
       "3          1.0     89.0           66.0           23.0     94.0  28.1   \n",
       "4          0.0    137.0           40.0           35.0    168.0  43.1   \n",
       "\n",
       "   DiabetesPedigreeFunction   Age  Outcome  \n",
       "0                     0.627  50.0        1  \n",
       "1                     0.351  31.0        0  \n",
       "2                     0.672  32.0        1  \n",
       "3                     0.167  21.0        0  \n",
       "4                     2.288  33.0        1  "
      ]
     },
     "execution_count": 20,
     "metadata": {},
     "output_type": "execute_result"
    }
   ],
   "source": [
    "no_dia = df[df['Outcome'] == 0]\n",
    "yes_dia = df[df['Outcome'] == 1]\n",
    "\n",
    "text_overSampling_0 = colored('Checking Data Distribution (Bal/Unbal?)',\n",
    "                              color='green', attrs=['bold', 'reverse', 'blink'])\n",
    "print(text_overSampling_0)\n",
    "print(\"Negatives: {}\\nPositives: {}\\n\".format(\n",
    "    no_dia.shape[0], yes_dia.shape[0]))\n",
    "\n",
    "X = df[feat_colNames]\n",
    "Y = df[label_colName]\n",
    "\n",
    "(X.values).shape\n",
    "\n",
    "smk = SMOTETomek(random_state=42, n_jobs=-1)\n",
    "X_res, y_res = smk.fit_resample(X.values, Y.values)\n",
    "\n",
    "text_overSampling_1 = colored(\n",
    "    'After Over-Sampling', color='cyan', attrs=['bold', 'reverse', 'blink'])\n",
    "print(text_overSampling_1)\n",
    "print('Original dataset shape {}\\nResampled dataset shape {}\\n'.format(\n",
    "    Counter(Y.Outcome), Counter(y_res)))\n",
    "\n",
    "df_overSampling = pd.DataFrame(X_res, columns=feat_colNames)\n",
    "\n",
    "df_overSampling['Outcome'] = y_res\n",
    "\n",
    "print(\"Original Dataset Shape: {}\\nPost Over-Sampling Dataset Shape: {}\".format(df.shape,\n",
    "                                                                           df_overSampling.shape))\n",
    "\n",
    "df_overSampling.head()"
   ]
  },
  {
   "cell_type": "markdown",
   "metadata": {},
   "source": [
    "## Balanced / Unbalanced Visualisation"
   ]
  },
  {
   "cell_type": "code",
   "execution_count": 21,
   "metadata": {
    "cell_style": "center"
   },
   "outputs": [
    {
     "data": {
      "text/plain": [
       "<matplotlib.axes._subplots.AxesSubplot at 0x1e5fe8b55c8>"
      ]
     },
     "execution_count": 21,
     "metadata": {},
     "output_type": "execute_result"
    },
    {
     "data": {
      "image/png": "[encoded data removed]",
      "text/plain": [
       "<Figure size 432x288 with 1 Axes>"
      ]
     },
     "metadata": {
      "needs_background": "light"
     },
     "output_type": "display_data"
    }
   ],
   "source": [
    "df['Outcome'].value_counts().plot(kind='bar', rot=0)"
   ]
  },
  {
   "cell_type": "markdown",
   "metadata": {},
   "source": [
    "# Feature Engineering"
   ]
  },
  {
   "cell_type": "code",
   "execution_count": 22,
   "metadata": {},
   "outputs": [],
   "source": [
    "features_overSampling = df_overSampling.iloc[:,:-1].values\n",
    "label_overSampling = df_overSampling.iloc[:,[-1]].values\n",
    "\n",
    "features = df.iloc[:,:-1].values\n",
    "label = df.iloc[:,[-1]].values"
   ]
  },
  {
   "cell_type": "markdown",
   "metadata": {},
   "source": [
    "## Pairplot for Visualising Feature Correlations with \"__<font color = 'orange'>OUT</font><font color = 'blue'>COME</font>__\" (Label) as hue<br>__Wall time: 1min 16s__"
   ]
  },
  {
   "cell_type": "code",
   "execution_count": 23,
   "metadata": {},
   "outputs": [],
   "source": [
    "# f = sns.PairGrid(df, hue = 'Outcome')\n",
    "# f.map_diag(plt.hist)\n",
    "# f.map_upper(plt.scatter)\n",
    "# f.map_lower(sns.kdeplot)\n",
    "# f.add_legend()"
   ]
  },
  {
   "cell_type": "markdown",
   "metadata": {},
   "source": [
    "![''](Correlation.png)"
   ]
  },
  {
   "cell_type": "markdown",
   "metadata": {},
   "source": [
    "## Boxplot: \"Outcome\" Label Overview"
   ]
  },
  {
   "cell_type": "code",
   "execution_count": 24,
   "metadata": {},
   "outputs": [
    {
     "data": {
      "image/png": "[encoded data removed]",
      "text/plain": [
       "<Figure size 1152x720 with 8 Axes>"
      ]
     },
     "metadata": {
      "needs_background": "light"
     },
     "output_type": "display_data"
    }
   ],
   "source": [
    "fig, ax = plt.subplots(2,4, figsize=(16,10))\n",
    "\n",
    "for j in range(len(ax)):\n",
    "    for i in range(len(ax[j])):\n",
    "        ax[j][i].tick_params(labelsize=15)\n",
    "        ax[j][i].set_xlabel('label', fontsize=17, position=(.5,20))\n",
    "        ax[j][i].set_ylabel('label', fontsize=17)\n",
    "        \n",
    "        if j ==0:\n",
    "            ax[j][i] = sns.boxplot(x=\"Outcome\", y=feat_colNames[i], data=df, ax=ax[j][i])#, jitter=0.3)\n",
    "        elif j==1:\n",
    "            ax[j][i] = sns.boxplot(x=\"Outcome\", y=feat_colNames[i+3], data=df, ax=ax[j][i])#, jitter=0.3)\n",
    "            \n",
    "fig.suptitle('\"Outcome\" Feature Overview', position=(.5,1.03), fontsize=20)\n",
    "fig.tight_layout()"
   ]
  },
  {
   "cell_type": "markdown",
   "metadata": {},
   "source": [
    "## Heatmap for Visualising Correlation Analysis<br> <font color = 'red'>Threashold = 0.5</font>"
   ]
  },
  {
   "cell_type": "code",
   "execution_count": 25,
   "metadata": {
    "scrolled": false
   },
   "outputs": [
    {
     "data": {
      "text/plain": [
       "<matplotlib.axes._subplots.AxesSubplot at 0x1e5ff2a9508>"
      ]
     },
     "execution_count": 25,
     "metadata": {},
     "output_type": "execute_result"
    },
    {
     "data": {
      "image/png": "[encoded data removed]",
      "text/plain": [
       "<Figure size 1080x360 with 2 Axes>"
      ]
     },
     "metadata": {
      "needs_background": "light"
     },
     "output_type": "display_data"
    }
   ],
   "source": [
    "# df_corr = df_overSampling.corr()\n",
    "\n",
    "df_corr = df.corr()\n",
    "fig, ax = plt.subplots(figsize=(15,5))\n",
    "sns.heatmap(df_corr, linewidths= 1, annot=True, cmap='inferno', ax=ax)"
   ]
  },
  {
   "cell_type": "code",
   "execution_count": 26,
   "metadata": {
    "cell_style": "split",
    "scrolled": true
   },
   "outputs": [
    {
     "name": "stdout",
     "output_type": "stream",
     "text": [
      "Pregnancies                 0.2\n",
      "Glucose                     0.5\n",
      "BloodPressure               0.2\n",
      "SkinThickness               0.2\n",
      "Insulin                     0.2\n",
      "BMI                         0.3\n",
      "DiabetesPedigreeFunction    0.2\n",
      "Age                         0.2\n",
      "Outcome                     1.0\n",
      "Name: Outcome_round, dtype: float64\n"
     ]
    }
   ],
   "source": [
    "df_corr['Outcome_round'] = round(df_corr['Outcome'], 1)\n",
    "print(df_corr.Outcome_round)"
   ]
  },
  {
   "cell_type": "code",
   "execution_count": 27,
   "metadata": {
    "cell_style": "split",
    "scrolled": false
   },
   "outputs": [
    {
     "data": {
      "text/plain": [
       "<matplotlib.axes._subplots.AxesSubplot at 0x1e581713988>"
      ]
     },
     "execution_count": 27,
     "metadata": {},
     "output_type": "execute_result"
    },
    {
     "data": {
      "image/png": "[encoded data removed]",
      "text/plain": [
       "<Figure size 432x288 with 1 Axes>"
      ]
     },
     "metadata": {
      "needs_background": "light"
     },
     "output_type": "display_data"
    }
   ],
   "source": [
    "df_corr.Outcome_round.plot(kind='barh', title=\"Correlation with 'Outcome'\", grid=True)"
   ]
  },
  {
   "cell_type": "code",
   "execution_count": 28,
   "metadata": {},
   "outputs": [],
   "source": [
    "#According to the Correlation Analysis, only the 'Glucose' is important.\n",
    "\n",
    "feat_corr = df_corr[(df_corr.Outcome_round >= 0.5) & (df_corr.Outcome_round < 1.0)].index[0]"
   ]
  },
  {
   "cell_type": "code",
   "execution_count": 29,
   "metadata": {},
   "outputs": [
    {
     "name": "stdout",
     "output_type": "stream",
     "text": [
      "--------------\n",
      "According to Correlation Analysis, Impotant Feature(s):  \u001b[1m\u001b[7m\u001b[34m'Glucose'\u001b[0m\n",
      "--------------\n"
     ]
    }
   ],
   "source": [
    "print(\"--------------\")\n",
    "print(\"According to Correlation Analysis, Impotant Feature(s): \", colored(\"'{}'\".format(feat_corr), 'blue', attrs= ['reverse', 'bold']))\n",
    "print(\"--------------\")"
   ]
  },
  {
   "cell_type": "markdown",
   "metadata": {},
   "source": [
    "## Feature Select By Model (SBM | Logistic Regression)"
   ]
  },
  {
   "cell_type": "code",
   "execution_count": 30,
   "metadata": {},
   "outputs": [
    {
     "data": {
      "text/plain": [
       "SelectFromModel(estimator=LogisticRegression())"
      ]
     },
     "execution_count": 30,
     "metadata": {},
     "output_type": "execute_result"
    }
   ],
   "source": [
    "from sklearn.linear_model import LogisticRegression\n",
    "\n",
    "modelForSBM = LogisticRegression()\n",
    "\n",
    "\n",
    "from sklearn.feature_selection import SelectFromModel\n",
    "\n",
    "selectFeatures_SBM = SelectFromModel(modelForSBM)\n",
    "\n",
    "selectFeatures_SBM.fit(features,label)\n",
    "\n",
    "# print(\"Features: \\n{}\\n\".format(feat_colNames))\n",
    "# print(\"Feature Index Number(s): {}\\n\".format(selectFeatures_SBM.get_support(indices=True)[0]))"
   ]
  },
  {
   "cell_type": "code",
   "execution_count": 31,
   "metadata": {},
   "outputs": [
    {
     "name": "stdout",
     "output_type": "stream",
     "text": [
      "--------------\n",
      "According to SBM (Log_Reg), Impotant Feature(s):  \u001b[1m\u001b[7m\u001b[34mDiabetesPedigreeFunction\u001b[0m\n",
      "--------------\n"
     ]
    }
   ],
   "source": [
    "print(\"--------------\")\n",
    "print(\"According to SBM (Log_Reg), Impotant Feature(s): \", colored(\"{}\".format(feat_colNames[selectFeatures_SBM.get_support(indices=True)[0]]), 'blue', attrs= ['reverse', 'bold']))\n",
    "print(\"--------------\")"
   ]
  },
  {
   "cell_type": "markdown",
   "metadata": {},
   "source": [
    "## Analysis of variance (Univariate Analysis using ANOVA)"
   ]
  },
  {
   "cell_type": "code",
   "execution_count": 32,
   "metadata": {},
   "outputs": [],
   "source": [
    "from sklearn.feature_selection import SelectPercentile\n",
    "from sklearn.feature_selection import f_classif\n",
    "\n",
    "selectFeaturesANOVA = SelectPercentile(percentile=50, score_func=f_classif)\n",
    "\n",
    "selectFeaturesANOVA.fit(features,label)\n",
    "\n",
    "# print(feat_colNames)\n",
    "# print(selectFeaturesANOVA.get_support(indices=False))\n",
    "# print(selectFeaturesANOVA.get_support(indices=True))\n",
    "\n",
    "feat_ANOVA = []\n",
    "for idx in selectFeaturesANOVA.get_support(indices=True):\n",
    "    feat_ANOVA.append(feat_colNames[idx])"
   ]
  },
  {
   "cell_type": "code",
   "execution_count": 33,
   "metadata": {},
   "outputs": [
    {
     "name": "stdout",
     "output_type": "stream",
     "text": [
      "--------------\n",
      "According to ANOVA, Impotant Feature(s):  \u001b[1m\u001b[7m\u001b[34m['Pregnancies', 'Glucose', 'BMI', 'Age']\u001b[0m\n",
      "--------------\n"
     ]
    }
   ],
   "source": [
    "print(\"--------------\")\n",
    "print(\"According to ANOVA, Impotant Feature(s): \", colored(\"{}\".format(feat_ANOVA), 'blue', attrs= ['reverse', 'bold']))\n",
    "print(\"--------------\")"
   ]
  },
  {
   "cell_type": "markdown",
   "metadata": {},
   "source": [
    "## Recursive Feature Elimination (RFE | RandomForestClassifier)"
   ]
  },
  {
   "cell_type": "code",
   "execution_count": 34,
   "metadata": {},
   "outputs": [],
   "source": [
    "from sklearn.feature_selection import RFE\n",
    "from sklearn.ensemble import RandomForestClassifier\n",
    "modelForRFE = RandomForestClassifier(n_estimators=100)\n",
    "\n",
    "selectFeaturesRFE = RFE(estimator=modelForRFE,\n",
    "                        step=1)\n",
    "\n",
    "selectFeaturesRFE.fit(features, label)\n",
    "\n",
    "# print(feat_colNames)\n",
    "# print(selectFeaturesRFE.ranking_)\n",
    "# print(selectFeaturesRFE.support_)\n",
    "\n",
    "feat_RFE = []\n",
    "for index, val in enumerate(selectFeaturesRFE.support_):\n",
    "    if val == True:\n",
    "        feat_RFE.append(feat_colNames[index])"
   ]
  },
  {
   "cell_type": "code",
   "execution_count": 35,
   "metadata": {
    "scrolled": true
   },
   "outputs": [
    {
     "name": "stdout",
     "output_type": "stream",
     "text": [
      "--------------\n",
      "According to RFE (RF_classF), Impotant Feature(s):  \u001b[1m\u001b[7m\u001b[34m['Glucose', 'BMI', 'DiabetesPedigreeFunction', 'Age']\u001b[0m\n",
      "--------------\n"
     ]
    }
   ],
   "source": [
    "print(\"--------------\")\n",
    "print(\"According to RFE (RF_classF), Impotant Feature(s): \", colored(\"{}\".format(feat_RFE), 'blue', attrs= ['reverse', 'bold']))\n",
    "print(\"--------------\")"
   ]
  },
  {
   "cell_type": "code",
   "execution_count": 36,
   "metadata": {},
   "outputs": [],
   "source": [
    "from sklearn.feature_selection import RFE\n",
    "from sklearn.tree import DecisionTreeClassifier\n",
    "\n",
    "modelForRFE = DecisionTreeClassifier()\n",
    "\n",
    "selectFeaturesRFE = RFE(estimator=modelForRFE,\n",
    "                        step=1, \n",
    "                        n_features_to_select=2)\n",
    "\n",
    "selectFeaturesRFE.fit(features, label)\n",
    "\n",
    "# print(feat_colNames)\n",
    "# print(selectFeaturesRFE.ranking_)\n",
    "# print(selectFeaturesRFE.support_)\n",
    "\n",
    "feat_RFE_DT = []\n",
    "for index, val in enumerate(selectFeaturesRFE.support_):\n",
    "    if val == True:\n",
    "        feat_RFE_DT.append(feat_colNames[index])"
   ]
  },
  {
   "cell_type": "code",
   "execution_count": 37,
   "metadata": {},
   "outputs": [
    {
     "name": "stdout",
     "output_type": "stream",
     "text": [
      "--------------\n",
      "According to RFE (DT_classF), Impotant Feature(s):  \u001b[1m\u001b[7m\u001b[34m['Glucose', 'DiabetesPedigreeFunction']\u001b[0m\n",
      "--------------\n"
     ]
    }
   ],
   "source": [
    "print(\"--------------\")\n",
    "print(\"According to RFE (DT_classF), Impotant Feature(s): \", colored(\"{}\".format(feat_RFE_DT), 'blue', attrs= ['reverse', 'bold']))\n",
    "print(\"--------------\")"
   ]
  },
  {
   "cell_type": "markdown",
   "metadata": {},
   "source": [
    "## Feature Engineering <font color = 'red'> RESULTS </font>"
   ]
  },
  {
   "cell_type": "code",
   "execution_count": 38,
   "metadata": {
    "scrolled": true
   },
   "outputs": [
    {
     "name": "stdout",
     "output_type": "stream",
     "text": [
      "Features:  ['Pregnancies', 'Glucose', 'BloodPressure', 'SkinThickness', 'Insulin', 'BMI', 'DiabetesPedigreeFunction', 'Age']\n",
      "--------------\n",
      "According to Correlation Analysis, Impotant Feature(s):  \u001b[1m\u001b[7m\u001b[34m'Glucose'\u001b[0m\n",
      "--------------\n",
      "According to SBM (log_Reg), Impotant Feature(s):  \u001b[1m\u001b[7m\u001b[36m'DiabetesPedigreeFunction'\u001b[0m\n",
      "--------------\n",
      "According to ANOVA, Impotant Feature(s):  \u001b[1m\u001b[7m\u001b[30m['Pregnancies', 'Glucose', 'BMI', 'Age']\u001b[0m\n",
      "--------------\n",
      "According to RFE (RF_classF), Impotant Feature(s):  \u001b[1m\u001b[7m\u001b[32m['Glucose', 'BMI', 'DiabetesPedigreeFunction', 'Age']\u001b[0m\n",
      "--------------\n"
     ]
    }
   ],
   "source": [
    "print(\"Features: \", feat_colNames)\n",
    "print(\"--------------\")\n",
    "print(\"According to Correlation Analysis, Impotant Feature(s): \", colored(\"'{}'\".format(feat_corr), 'blue', attrs= ['reverse', 'bold']))\n",
    "print(\"--------------\")\n",
    "print(\"According to SBM (log_Reg), Impotant Feature(s): \", colored(\"'{}'\".format(feat_colNames[selectFeatures_SBM.get_support(indices=True)[0]]), 'cyan', attrs= ['reverse', 'bold']))\n",
    "print(\"--------------\")\n",
    "print(\"According to ANOVA, Impotant Feature(s): \", colored(\"{}\".format(feat_ANOVA), 'grey', attrs= ['reverse', 'bold']))\n",
    "print(\"--------------\")\n",
    "# print(\"According to RFE (DT_classF), Impotant Feature(s): \", colored(\"{}\".format(feat_RFE_DT), 'red', attrs= ['reverse', 'bold']))\n",
    "# print(\"--------------\")\n",
    "print(\"According to RFE (RF_classF), Impotant Feature(s): \", colored(\"{}\".format(feat_RFE), 'green', attrs= ['reverse', 'bold']))\n",
    "print(\"--------------\")"
   ]
  },
  {
   "cell_type": "code",
   "execution_count": 39,
   "metadata": {},
   "outputs": [],
   "source": [
    "# Features:  ['Pregnancies', 'Glucose', 'BloodPressure', 'SkinThickness', 'Insulin', 'BMI', 'DiabetesPedigreeFunction', 'Age']\n",
    "\n",
    "# 'FEATURE NAME'                : Score (Out of 4)\n",
    "# 'Pregnancies'                 : 1\n",
    "# 'Glucose'                     : 3\n",
    "# 'BMI'                         : 2\n",
    "# 'DiabetesPedigreeFunction'    : 2\n",
    "# 'Age'                         : 2\n",
    "\n",
    "# 'BloodPressure'               : 0\n",
    "# 'SkinThickness'               : 0\n",
    "# 'Insulin'                     : 0\n",
    "\n",
    "\n",
    "# We can use the following features_NEW during Testing models\n",
    "features_NEW = features[:, [0, 1, 2, 5, 6, 7]]"
   ]
  },
  {
   "cell_type": "markdown",
   "metadata": {},
   "source": [
    "__<font color = 'red'> INFERENCE:</font>__<br>"
   ]
  },
  {
   "cell_type": "markdown",
   "metadata": {},
   "source": [
    "Thus by cobining the results of several __ Feature Engineering Algorithms__:<br>\n",
    "The __<font color = 'blue'>'BloodPressure','SkinThickness' and 'Insulin'</font>__ features, are the least important for Classification.<br>"
   ]
  },
  {
   "cell_type": "markdown",
   "metadata": {},
   "source": [
    "# Model Building"
   ]
  },
  {
   "cell_type": "code",
   "execution_count": 40,
   "metadata": {},
   "outputs": [],
   "source": [
    "refer_url = 'https://towardsdatascience.com/comparative-study-on-classic-machine-learning-algorithms-24f9ff6ab222'"
   ]
  },
  {
   "cell_type": "code",
   "execution_count": 41,
   "metadata": {},
   "outputs": [],
   "source": [
    "#Models that will be tested:\n",
    "# 1. KNN\n",
    "# 2. Logistic Regression\n",
    "# 3. Decision Tree Classifier\n",
    "# 4. Random Forest Classifier\n",
    "# 5. Support Vector Classifier"
   ]
  },
  {
   "cell_type": "code",
   "execution_count": 42,
   "metadata": {},
   "outputs": [
    {
     "data": {
      "text/plain": [
       "((768, 8), (768, 1))"
      ]
     },
     "execution_count": 42,
     "metadata": {},
     "output_type": "execute_result"
    }
   ],
   "source": [
    "# Features must be a 2d array & Label must be a 1d array\n",
    "features.shape, label.shape"
   ]
  },
  {
   "cell_type": "markdown",
   "metadata": {
    "heading_collapsed": true
   },
   "source": [
    "## <font color = red>KNN</font>"
   ]
  },
  {
   "cell_type": "markdown",
   "metadata": {
    "heading_collapsed": true,
    "hidden": true
   },
   "source": [
    "### For Loop for Best Model"
   ]
  },
  {
   "cell_type": "code",
   "execution_count": 43,
   "metadata": {
    "hidden": true,
    "scrolled": true
   },
   "outputs": [],
   "source": [
    "from sklearn.neighbors import KNeighborsClassifier \n",
    "\n",
    "# for k in range(3, 7):\n",
    "#     print(\"K =\", k)\n",
    "#     for i in range(1, 400):\n",
    "#         X_train, X_test, y_train, y_test = train_test_split(features,\n",
    "#                                                             label,\n",
    "#                                                             test_size=0.2,\n",
    "#                                                             random_state=i)\n",
    "\n",
    "#         model_knn = KNeighborsClassifier(n_neighbors=k) \n",
    "\n",
    "#         model_knn.fit(X_train, y_train)\n",
    "\n",
    "#         train_score = model_knn.score(X_train, y_train)\n",
    "#         test_score = model_knn.score(X_test, y_test)\n",
    "\n",
    "#         if (i % 100 == 0):\n",
    "#             print(\"currently at (k, RS): \", k, i)\n",
    "\n",
    "#         if (test_score > train_score) & (test_score > 0.7):\n",
    "#             print(\"test: {:.3f}, train: {:.3f}, k: {}, RS: {}\".format(test_score,\n",
    "#                                                                       train_score, \n",
    "#                                                                       k,\n",
    "#                                                                       i))    \n",
    "# # test: 0.838, train: 0.762, k: 6, RS: 345"
   ]
  },
  {
   "cell_type": "markdown",
   "metadata": {
    "heading_collapsed": true,
    "hidden": true
   },
   "source": [
    "### For Loop for Best Model (RS: 345)"
   ]
  },
  {
   "cell_type": "code",
   "execution_count": 44,
   "metadata": {
    "hidden": true
   },
   "outputs": [
    {
     "data": {
      "text/plain": [
       "Text(0, 0.5, 'Accuracy')"
      ]
     },
     "execution_count": 44,
     "metadata": {},
     "output_type": "execute_result"
    },
    {
     "data": {
      "image/png": "[encoded data removed]",
      "text/plain": [
       "<Figure size 432x288 with 1 Axes>"
      ]
     },
     "metadata": {
      "needs_background": "light"
     },
     "output_type": "display_data"
    }
   ],
   "source": [
    "# RS: 345\n",
    "\n",
    "# Import necessary modules \n",
    "from sklearn.neighbors import KNeighborsClassifier \n",
    "\n",
    "# Split into training and test set \n",
    "X_train, X_test, y_train, y_test = train_test_split(features, \n",
    "                                                    label, \n",
    "                                                    test_size = 0.2, \n",
    "                                                    random_state= 345)\n",
    "\n",
    "neighbors = np.arange(1, 8) \n",
    "train_accuracy = np.empty(len(neighbors)) \n",
    "test_accuracy = np.empty(len(neighbors)) \n",
    "\n",
    "# Loop over K values \n",
    "for i, k in enumerate(neighbors):\n",
    "    model_knn = KNeighborsClassifier(n_neighbors=k)\n",
    "    model_knn.fit(X_train, y_train)\n",
    "    \n",
    "    # Compute traning and test data accuracy \n",
    "    train_accuracy[i] = model_knn.score(X_train, y_train) \n",
    "    test_accuracy[i] = model_knn.score(X_test, y_test) \n",
    "\n",
    "# Generate plot \n",
    "plt.plot(neighbors, test_accuracy, label = 'Testing dataset Accuracy') \n",
    "plt.plot(neighbors, train_accuracy, label = 'Training dataset Accuracy') \n",
    "\n",
    "plt.legend() \n",
    "plt.xlabel('n_neighbors') \n",
    "plt.ylabel('Accuracy') "
   ]
  },
  {
   "cell_type": "markdown",
   "metadata": {
    "heading_collapsed": true,
    "hidden": true
   },
   "source": [
    "### Best KNN Model (n_neighbors=6, RS: 345)"
   ]
  },
  {
   "cell_type": "code",
   "execution_count": 45,
   "metadata": {
    "hidden": true,
    "scrolled": true
   },
   "outputs": [
    {
     "name": "stdout",
     "output_type": "stream",
     "text": [
      "Test Score: 0.838 \n",
      "Train Score: 0.762215 \n",
      "Generalised Model\n"
     ]
    }
   ],
   "source": [
    "# Import necessary modules \n",
    "from sklearn.neighbors import KNeighborsClassifier \n",
    "\n",
    "# Split into training and test set \n",
    "X_train, X_test, y_train, y_test = train_test_split(features, label, test_size = 0.2, random_state=345) \n",
    "\n",
    "model_knn = KNeighborsClassifier(n_neighbors=6) \n",
    "\n",
    "model_knn.fit(X_train, y_train) \n",
    "\n",
    "# Calculate the accuracy of the model \n",
    "test_score_knn = model_knn.score(X_test, y_test)\n",
    "train_score_knn = model_knn.score(X_train, y_train)\n",
    "\n",
    "\n",
    "print(\"Test Score: {:.3f} \\nTrain Score: {:3f} \\nGeneralised Model\".format(test_score_knn, train_score_knn))"
   ]
  },
  {
   "cell_type": "markdown",
   "metadata": {
    "heading_collapsed": true,
    "hidden": true
   },
   "source": [
    "### Confusion Matrix & Classification Report | KNN"
   ]
  },
  {
   "cell_type": "code",
   "execution_count": 46,
   "metadata": {
    "hidden": true
   },
   "outputs": [
    {
     "data": {
      "text/plain": [
       "array([[99,  9],\n",
       "       [16, 30]], dtype=int64)"
      ]
     },
     "execution_count": 46,
     "metadata": {},
     "output_type": "execute_result"
    },
    {
     "data": {
      "image/png": "[encoded data removed]",
      "text/plain": [
       "<Figure size 432x288 with 2 Axes>"
      ]
     },
     "metadata": {
      "needs_background": "light"
     },
     "output_type": "display_data"
    }
   ],
   "source": [
    "cm_knn = confusion_matrix(y_test,model_knn.predict(X_test))\n",
    "\n",
    "sns.heatmap(cm_knn, annot=True)\n",
    "\n",
    "cm_knn"
   ]
  },
  {
   "cell_type": "code",
   "execution_count": 47,
   "metadata": {
    "hidden": true
   },
   "outputs": [
    {
     "name": "stdout",
     "output_type": "stream",
     "text": [
      "              precision    recall  f1-score     support\n",
      "0              0.783133  0.910000  0.841813  500.000000\n",
      "1              0.759358  0.529851  0.624176  268.000000\n",
      "accuracy       0.777344  0.777344  0.777344    0.777344\n",
      "macro avg      0.771245  0.719925  0.732994  768.000000\n",
      "weighted avg   0.774836  0.777344  0.765867  768.000000\n",
      "\n",
      "0.656 is the critical accuracy of this model\n"
     ]
    }
   ],
   "source": [
    "report_knn = classification_report(label,model_knn.predict(features), output_dict=True)\n",
    "\n",
    "report_knn_df = pd.DataFrame(report_knn).transpose()\n",
    "\n",
    "print(report_knn_df)\n",
    "\n",
    "print(\"\\n{:.3f} is the critical accuracy of this model\".format((0.783133 + 0.529851) / 2))\n",
    "\n",
    "Eval_metric_rk_knn = (0.783133 + 0.529851) / 2"
   ]
  },
  {
   "cell_type": "code",
   "execution_count": 48,
   "metadata": {
    "hidden": true
   },
   "outputs": [],
   "source": [
    "# From the Confusion Matrix: \n",
    "# There are 90 Records where an actually Diabetic person is labeled Non-Diabetic (Cannot be tolerated)\n",
    "# Hence We need to also check Precision of '0' and Recall of '1' \n",
    "\n",
    "# 0.656 is the critical accuracy of 'KNN' model -- By Rohan Kunte"
   ]
  },
  {
   "cell_type": "code",
   "execution_count": 49,
   "metadata": {
    "hidden": true
   },
   "outputs": [],
   "source": [
    "# df.head()\n",
    "\n",
    "df_features = df[['Pregnancies','Glucose','BloodPressure','SkinThickness','Insulin','BMI','DiabetesPedigreeFunction','Age']]\n",
    "df_label = df['Outcome']"
   ]
  },
  {
   "cell_type": "code",
   "execution_count": 50,
   "metadata": {
    "hidden": true
   },
   "outputs": [
    {
     "data": {
      "text/plain": [
       "0.7227808888359347"
      ]
     },
     "execution_count": 50,
     "metadata": {},
     "output_type": "execute_result"
    }
   ],
   "source": [
    "from sklearn.model_selection import cross_val_score\n",
    "\n",
    "# for i in range(2,30):\n",
    "#     if ((cross_val_score(model_knn , X_train, y_train, cv = i)).mean()) > 0.74:\n",
    "#         print((cross_val_score(model_knn , X_train, y_train, cv = i)).mean(), i)\n",
    "\n",
    "cross_val_score(model_knn , df_features, df_label, cv = 7).mean()"
   ]
  },
  {
   "cell_type": "markdown",
   "metadata": {},
   "source": [
    "## <font color = red>Logistic Regression </font>"
   ]
  },
  {
   "cell_type": "markdown",
   "metadata": {},
   "source": [
    "### For Loop for Best Model"
   ]
  },
  {
   "cell_type": "code",
   "execution_count": 51,
   "metadata": {},
   "outputs": [
    {
     "name": "stdout",
     "output_type": "stream",
     "text": [
      "currently at RS:  100\n",
      "currently at RS:  200\n",
      "currently at RS:  300\n",
      "currently at RS:  400\n",
      "currently at RS:  500\n",
      "currently at RS:  600\n",
      "test: 0.870, train: 0.752, RS: 645\n",
      "currently at RS:  700\n",
      "currently at RS:  800\n",
      "currently at RS:  900\n"
     ]
    }
   ],
   "source": [
    "from sklearn.model_selection import train_test_split\n",
    "from sklearn.linear_model import LogisticRegression\n",
    "\n",
    "\n",
    "for i in range(1, 1000):\n",
    "    X_train, X_test, y_train, y_test = train_test_split(features,\n",
    "                                                        label,\n",
    "                                                        test_size=0.2,\n",
    "                                                        random_state=i)\n",
    "\n",
    "    model_logReg = LogisticRegression()\n",
    "    model_logReg.fit(X_train, y_train)\n",
    "\n",
    "    train_score = model_logReg.score(X_train, y_train)\n",
    "    test_score = model_logReg.score(X_test, y_test)\n",
    "\n",
    "    if (i % 100 == 0):\n",
    "        print(\"currently at RS: \", i)\n",
    "\n",
    "    if ((test_score > train_score) & (test_score > 0.86)):\n",
    "        print(\"test: {:.3f}, train: {:.3f}, RS: {}\".format(test_score,\n",
    "                                                           train_score,\n",
    "                                                           i))"
   ]
  },
  {
   "cell_type": "code",
   "execution_count": 52,
   "metadata": {},
   "outputs": [],
   "source": [
    "# from sklearn.model_selection import train_test_split\n",
    "# from sklearn.linear_model import LogisticRegression\n",
    "\n",
    "\n",
    "# for i in range(1, 1000):\n",
    "#     X_train, X_test, y_train, y_test = train_test_split(features,\n",
    "#                                                         label,\n",
    "#                                                         test_size=0.2,\n",
    "#                                                         random_state=i)\n",
    "\n",
    "#     model_logReg = LogisticRegression()\n",
    "#     model_logReg.fit(X_train, y_train)\n",
    "\n",
    "#     train_score = model_logReg.score(X_train, y_train)\n",
    "#     test_score = model_logReg.score(X_test, y_test)\n",
    "\n",
    "#     if (i % 100 == 0):\n",
    "#         print(\"currently at RS: \", i)\n",
    "\n",
    "#     if ((test_score > train_score) & (test_score > 0.86)):\n",
    "#         print(\"test: {:.3f}, train: {:.3f}, RS: {}\".format(test_score,\n",
    "#                                                            train_score,\n",
    "#                                                            i))\n",
    "\n",
    "# # features: test: 0.870, train: 0.752, RS: 645 (BEST MODEL ACCURACY)\n",
    "\n",
    "# # features_NEW: test: 0.851, train: 0.757, RS: 395 (With Feature Engineering)\n",
    "# # features_overSampling: test: 0.827, train: 0.767, RS: 706 (With Over Sampling)"
   ]
  },
  {
   "cell_type": "markdown",
   "metadata": {
    "heading_collapsed": true
   },
   "source": [
    "### Best Logistic Regression Model"
   ]
  },
  {
   "cell_type": "code",
   "execution_count": 53,
   "metadata": {
    "hidden": true
   },
   "outputs": [
    {
     "name": "stdout",
     "output_type": "stream",
     "text": [
      "Generalised Model: test score 87.01% > train score 75.24%\n"
     ]
    }
   ],
   "source": [
    "X_train, X_test, y_train, y_test = train_test_split(features, \n",
    "                                                        label, \n",
    "                                                        test_size=0.2, \n",
    "                                                        random_state=645)\n",
    "\n",
    "model_LogReg = LogisticRegression()\n",
    "model_LogReg.fit(X_train, y_train)\n",
    "\n",
    "train_score_LogReg = model_LogReg.score(X_train, y_train)\n",
    "test_score_LogReg = model_LogReg.score(X_test, y_test)\n",
    "\n",
    "coeff_LogReg = list(model_LogReg.coef_[0])\n",
    "\n",
    "print(\"Generalised Model: test score {:.2f}% > train score {:.2f}%\".format(test_score_LogReg*100, train_score_LogReg*100))"
   ]
  },
  {
   "cell_type": "code",
   "execution_count": 54,
   "metadata": {
    "hidden": true,
    "scrolled": false
   },
   "outputs": [
    {
     "data": {
      "text/plain": [
       "Text(0.5, 0, 'Importance')"
      ]
     },
     "execution_count": 54,
     "metadata": {},
     "output_type": "execute_result"
    },
    {
     "data": {
      "image/png": "[encoded data removed]",
      "text/plain": [
       "<Figure size 1152x360 with 1 Axes>"
      ]
     },
     "metadata": {
      "needs_background": "light"
     },
     "output_type": "display_data"
    }
   ],
   "source": [
    "LogReg_df = pd.DataFrame()\n",
    "LogReg_df['Features'] = feat_colNames\n",
    "LogReg_df['Importance'] = coeff_LogReg\n",
    "LogReg_df.sort_values(by=['Importance'], ascending=True, inplace=True)\n",
    "LogReg_df['Positive'] = (LogReg_df['Importance'] > 0)\n",
    "LogReg_df.set_index('Features', inplace=True)\n",
    "LogReg_df.Importance.plot(kind='barh', figsize=(16, 5),color = LogReg_df.Positive.map({True: 'blue', False: 'red'}))\n",
    "plt.xlabel('Importance')"
   ]
  },
  {
   "cell_type": "markdown",
   "metadata": {
    "hidden": true
   },
   "source": [
    "__THE ABOVE FIGURE AGREES WITH OUT FEATURE ENGINEERING INFERENCE__"
   ]
  },
  {
   "cell_type": "markdown",
   "metadata": {
    "heading_collapsed": true
   },
   "source": [
    "### Confusion Matrix & Classification Report | Logistic Regression"
   ]
  },
  {
   "cell_type": "code",
   "execution_count": 55,
   "metadata": {
    "hidden": true
   },
   "outputs": [
    {
     "name": "stdout",
     "output_type": "stream",
     "text": [
      "[[102   6]\n",
      " [ 14  32]]\n"
     ]
    },
    {
     "data": {
      "text/plain": [
       "<matplotlib.axes._subplots.AxesSubplot at 0x1e5fefd79c8>"
      ]
     },
     "execution_count": 55,
     "metadata": {},
     "output_type": "execute_result"
    },
    {
     "data": {
      "image/png": "[encoded data removed]",
      "text/plain": [
       "<Figure size 432x288 with 2 Axes>"
      ]
     },
     "metadata": {
      "needs_background": "light"
     },
     "output_type": "display_data"
    }
   ],
   "source": [
    "from sklearn.metrics import confusion_matrix\n",
    "\n",
    "cm_LogReg = confusion_matrix(y_test,model_LogReg.predict(X_test))\n",
    "print(cm_LogReg)\n",
    "\n",
    "sns.heatmap(cm_LogReg, annot=True)\n",
    "\n",
    "\n",
    "#     0     1\n",
    "# 0  443   57\n",
    "\n",
    "# 1  115   153"
   ]
  },
  {
   "cell_type": "code",
   "execution_count": 56,
   "metadata": {
    "hidden": true
   },
   "outputs": [
    {
     "name": "stdout",
     "output_type": "stream",
     "text": [
      "              precision    recall  f1-score     support\n",
      "0              0.793907  0.886000  0.837429  500.000000\n",
      "1              0.728571  0.570896  0.640167  268.000000\n",
      "accuracy       0.776042  0.776042  0.776042    0.776042\n",
      "macro avg      0.761239  0.728448  0.738798  768.000000\n",
      "weighted avg   0.771107  0.776042  0.768593  768.000000\n",
      "\n",
      "0.682 is the critical accuracy of this model\n"
     ]
    }
   ],
   "source": [
    "from sklearn.metrics import classification_report\n",
    "\n",
    "report_LogReg = classification_report(label,model_LogReg.predict(features), output_dict=True)\n",
    "\n",
    "report_LogReg_df = pd.DataFrame(report_LogReg).transpose()\n",
    "\n",
    "print(report_LogReg_df)\n",
    "\n",
    "print(\"\\n{:.3f} is the critical accuracy of this model\".format((0.793907 + 0.570896) / 2))\n",
    "\n",
    "Eval_metric_rk_LogReg = (0.793907 + 0.570896) / 2"
   ]
  },
  {
   "cell_type": "code",
   "execution_count": 57,
   "metadata": {
    "hidden": true
   },
   "outputs": [],
   "source": [
    "# From the Confusion Matrix: \n",
    "# There are 115 Records where a potentially Diabetic person is labeled 'Healthy' (Cannot be tolerated)\n",
    "# Hence We need to also check Precision of '0' and Recall of '1' \n",
    "\n",
    "# 0.682 is the critical accuracy of 'Logistic Regression' model -- By Rohan Kunte"
   ]
  },
  {
   "cell_type": "markdown",
   "metadata": {
    "heading_collapsed": true
   },
   "source": [
    "##  <font color = red>Decision Tree Classifier</font>"
   ]
  },
  {
   "cell_type": "markdown",
   "metadata": {
    "heading_collapsed": true,
    "hidden": true
   },
   "source": [
    "### For Loop to find the best model"
   ]
  },
  {
   "cell_type": "code",
   "execution_count": 58,
   "metadata": {
    "hidden": true,
    "scrolled": true
   },
   "outputs": [
    {
     "name": "stdout",
     "output_type": "stream",
     "text": [
      "5\n",
      "0.8246753246753247 0.8094462540716613 5 194\n",
      "0.8376623376623377 0.8322475570032574 5 345\n",
      "0.8181818181818182 0.8143322475570033 5 991\n"
     ]
    }
   ],
   "source": [
    "from sklearn.tree import DecisionTreeClassifier\n",
    "\n",
    "for d in range(5,6):\n",
    "    print(d)\n",
    "    for i in range(1,1000):\n",
    "        X_train, X_test, y_train, y_test = train_test_split(features,\n",
    "                                                            label, \n",
    "                                                            test_size=0.2,\n",
    "                                                            random_state = i)\n",
    "        model_DT = DecisionTreeClassifier(max_depth = d)\n",
    "\n",
    "        model_DT.fit(X_train, y_train)\n",
    "\n",
    "        train_score_dt = model_DT.score(X_train, y_train)\n",
    "        test_score_dt = model_DT.score(X_test, y_test)\n",
    "\n",
    "        if test_score_dt > train_score_dt:\n",
    "            print(test_score_dt,train_score_dt, d,i)"
   ]
  },
  {
   "cell_type": "markdown",
   "metadata": {
    "hidden": true
   },
   "source": [
    "### Best Decision Tree Model"
   ]
  },
  {
   "cell_type": "code",
   "execution_count": 59,
   "metadata": {
    "hidden": true
   },
   "outputs": [
    {
     "name": "stdout",
     "output_type": "stream",
     "text": [
      "'Generalised' Decision Tree Classifier Model with: \n",
      "Test Score: 0.844 and Train Score: 0.832\n"
     ]
    }
   ],
   "source": [
    "from sklearn.tree import DecisionTreeClassifier\n",
    "\n",
    "X_train, X_test, y_train, y_test = train_test_split(features,\n",
    "                                                    label,\n",
    "                                                    test_size=0.2,\n",
    "                                                    random_state = 345)\n",
    "\n",
    "model_DT = DecisionTreeClassifier(max_depth=5)\n",
    "\n",
    "model_DT.fit(X_train,y_train)\n",
    "\n",
    "train_score_dt = model_DT.score(X_train,y_train)\n",
    "test_score_dt = model_DT.score(X_test,y_test)\n",
    "\n",
    "print(\"'Generalised' Decision Tree Classifier Model with: \\nTest Score: {:.3f} and Train Score: {:.3f}\".format(test_score_dt, train_score_dt))"
   ]
  },
  {
   "cell_type": "code",
   "execution_count": 60,
   "metadata": {
    "hidden": true
   },
   "outputs": [
    {
     "data": {
      "text/plain": [
       "0.7565104166666666"
      ]
     },
     "execution_count": 60,
     "metadata": {},
     "output_type": "execute_result"
    }
   ],
   "source": [
    "cross_val_score(model_DT , df_features, df_label, cv = 4).mean()"
   ]
  },
  {
   "cell_type": "markdown",
   "metadata": {
    "hidden": true
   },
   "source": [
    "### Confusion Matrix & Classification Report | Decision Tree Classifier"
   ]
  },
  {
   "cell_type": "code",
   "execution_count": 61,
   "metadata": {
    "hidden": true
   },
   "outputs": [
    {
     "data": {
      "text/plain": [
       "array([[93, 15],\n",
       "       [ 9, 37]], dtype=int64)"
      ]
     },
     "execution_count": 61,
     "metadata": {},
     "output_type": "execute_result"
    },
    {
     "data": {
      "image/png": "[encoded data removed]",
      "text/plain": [
       "<Figure size 432x288 with 2 Axes>"
      ]
     },
     "metadata": {
      "needs_background": "light"
     },
     "output_type": "display_data"
    }
   ],
   "source": [
    "cm_dt = confusion_matrix(y_test,model_DT.predict(X_test))\n",
    "sns.heatmap(cm_dt, annot=True)\n",
    "cm_dt"
   ]
  },
  {
   "cell_type": "code",
   "execution_count": 62,
   "metadata": {
    "hidden": true
   },
   "outputs": [
    {
     "name": "stdout",
     "output_type": "stream",
     "text": [
      "              precision    recall  f1-score     support\n",
      "0              0.859345  0.892000  0.875368  500.000000\n",
      "1              0.783133  0.727612  0.754352  268.000000\n",
      "accuracy       0.834635  0.834635  0.834635    0.834635\n",
      "macro avg      0.821239  0.809806  0.814860  768.000000\n",
      "weighted avg   0.832750  0.834635  0.833138  768.000000\n",
      "\n",
      "0.791 is the critical accuracy of this model\n"
     ]
    }
   ],
   "source": [
    "report_dt = classification_report(label,model_DT.predict(features), output_dict=True)\n",
    "\n",
    "report_dt_df = pd.DataFrame(report_dt).transpose()\n",
    "\n",
    "print(report_dt_df)\n",
    "\n",
    "print(\"\\n{:.3f} is the critical accuracy of this model\".format((0.857692 + 0.723881) / 2))\n",
    "\n",
    "Eval_metric_rk_dt = (0.857692 + 0.723881) / 2"
   ]
  },
  {
   "cell_type": "code",
   "execution_count": 63,
   "metadata": {
    "hidden": true
   },
   "outputs": [],
   "source": [
    "# From the Confusion Matrix: \n",
    "# There are 74 Records where a potentially Diabetic person is labeled 'Healthy' (Cannot be tolerated)\n",
    "# Hence We need to also check Precision of '0' and Recall of '1' \n",
    "\n",
    "# 0.791 is the critical accuracy of 'Decision Tree Classifier' model -- By Rohan Kunte"
   ]
  },
  {
   "cell_type": "markdown",
   "metadata": {
    "heading_collapsed": true
   },
   "source": [
    "##  <font color = red>Random Forest Classifier</font>"
   ]
  },
  {
   "cell_type": "markdown",
   "metadata": {
    "heading_collapsed": true,
    "hidden": true
   },
   "source": [
    "### Find the Best Random Forest Classifier Model "
   ]
  },
  {
   "cell_type": "code",
   "execution_count": 64,
   "metadata": {
    "hidden": true
   },
   "outputs": [],
   "source": [
    "# from sklearn.ensemble import RandomForestClassifier\n",
    "\n",
    "# train_rf = []\n",
    "# test_rf = []\n",
    "# for i in range(701):\n",
    "#         X_train, X_test, y_train, y_test = train_test_split(features_overSampling,\n",
    "#                                                             label_overSampling, \n",
    "#                                                             test_size=0.2,\n",
    "#                                                             random_state = i)\n",
    "#         model_rf = RandomForestClassifier()\n",
    "\n",
    "#         model_rf.fit(X_train,y_train)\n",
    "\n",
    "#         test_score_rf = model_rf.score(X_test,y_test)\n",
    "#         train_score_rf = model_rf.score(X_train,y_train)\n",
    "        \n",
    "#         train_rf.append(train_score_rf)\n",
    "#         test_rf.append(test_score_rf)\n",
    "        \n",
    "#         if i%10 == 0:\n",
    "#             print(\"Currently at: \", i)\n",
    "\n",
    "            \n",
    "#         if test_score_rf > train_score_rf:\n",
    "#             print(test_score_rf,train_score_rf,i)"
   ]
  },
  {
   "cell_type": "code",
   "execution_count": 65,
   "metadata": {
    "hidden": true
   },
   "outputs": [],
   "source": [
    "# rf_not_fit = sns.lineplot(range(0,1000),test_rf)\n",
    "# rf_not_fit = sns.lineplot(range(0,1000), train_rf)\n",
    "# rf_not_fit.set_title('Random Forest Classifier Not fit for this Dataset')"
   ]
  },
  {
   "cell_type": "code",
   "execution_count": 66,
   "metadata": {
    "hidden": true
   },
   "outputs": [
    {
     "name": "stdout",
     "output_type": "stream",
     "text": [
      "0.7727272727272727 0.998371335504886\n"
     ]
    }
   ],
   "source": [
    "from sklearn.ensemble import RandomForestClassifier\n",
    "\n",
    "X_train, X_test, y_train, y_test = train_test_split(features,\n",
    "                                                    label, \n",
    "                                                    test_size=0.2,\n",
    "                                                    random_state = 95)\n",
    "\n",
    "model_rf = RandomForestClassifier(n_estimators=40)\n",
    "model_rf.fit(X_train, y_train)\n",
    "\n",
    "test_score_rf = model_rf.score(X_test, y_test)\n",
    "train_score_rf = model_rf.score(X_train,y_train)\n",
    "\n",
    "print(test_score_rf, train_score_rf)"
   ]
  },
  {
   "cell_type": "markdown",
   "metadata": {
    "heading_collapsed": true,
    "hidden": true
   },
   "source": [
    "### Confusion Matrix & Classification Report | Random Forest Classifier"
   ]
  },
  {
   "cell_type": "code",
   "execution_count": 67,
   "metadata": {
    "hidden": true
   },
   "outputs": [
    {
     "data": {
      "text/plain": [
       "array([[485,  15],\n",
       "       [ 21, 247]], dtype=int64)"
      ]
     },
     "execution_count": 67,
     "metadata": {},
     "output_type": "execute_result"
    },
    {
     "data": {
      "image/png": "[encoded data removed]",
      "text/plain": [
       "<Figure size 432x288 with 2 Axes>"
      ]
     },
     "metadata": {
      "needs_background": "light"
     },
     "output_type": "display_data"
    }
   ],
   "source": [
    "cm_rf = confusion_matrix(label,model_rf.predict(features))\n",
    "sns.heatmap(cm_rf, annot= True)\n",
    "cm_rf"
   ]
  },
  {
   "cell_type": "code",
   "execution_count": 68,
   "metadata": {
    "hidden": true
   },
   "outputs": [
    {
     "name": "stdout",
     "output_type": "stream",
     "text": [
      "              precision    recall  f1-score     support\n",
      "0              0.958498  0.970000  0.964215  500.000000\n",
      "1              0.942748  0.921642  0.932075  268.000000\n",
      "accuracy       0.953125  0.953125  0.953125    0.953125\n",
      "macro avg      0.950623  0.945821  0.948145  768.000000\n",
      "weighted avg   0.953002  0.953125  0.952999  768.000000\n",
      "\n",
      "0.951 is the critical accuracy of this model\n"
     ]
    }
   ],
   "source": [
    "report_rf = classification_report(label,model_rf.predict(features), output_dict=True)\n",
    "\n",
    "report_rf_df = pd.DataFrame(report_rf).transpose()\n",
    "\n",
    "print(report_rf_df)\n",
    "\n",
    "print(\"\\n{:.3f} is the critical accuracy of this model\".format((0.965517 + 0.936567 ) / 2))\n",
    "\n",
    "Eval_metric_rk_rf = (0.965517 + 0.936567 ) / 2"
   ]
  },
  {
   "cell_type": "code",
   "execution_count": 69,
   "metadata": {
    "hidden": true
   },
   "outputs": [],
   "source": [
    "#Not generalised (Need more data)"
   ]
  },
  {
   "cell_type": "markdown",
   "metadata": {
    "heading_collapsed": true
   },
   "source": [
    "##  <font color = red>Support Vector Machine Classifier</font>"
   ]
  },
  {
   "cell_type": "markdown",
   "metadata": {
    "heading_collapsed": true,
    "hidden": true
   },
   "source": [
    "### Finding the Best Model"
   ]
  },
  {
   "cell_type": "code",
   "execution_count": 70,
   "metadata": {
    "hidden": true
   },
   "outputs": [
    {
     "name": "stdout",
     "output_type": "stream",
     "text": [
      "currently at RS:  100\n",
      "currently at RS:  200\n",
      "currently at RS:  300\n",
      "test: 0.864, train: 0.752, RS: 395\n"
     ]
    }
   ],
   "source": [
    "from sklearn.svm import SVC \n",
    "\n",
    "for i in range(1, 400):\n",
    "    X_train, X_test, y_train, y_test = train_test_split(features,\n",
    "                                                        label,\n",
    "                                                        test_size=0.2,\n",
    "                                                        random_state=i)\n",
    "\n",
    "    model_svc = SVC(kernel='poly')\n",
    "    model_svc.fit(X_train, y_train)\n",
    "\n",
    "    train_score_svc = model_svc.score(X_train, y_train)\n",
    "    test_score_svc = model_svc.score(X_test, y_test)\n",
    "\n",
    "    if (i % 100 == 0):\n",
    "        print(\"currently at RS: \", i)\n",
    "\n",
    "    if (test_score_svc > train_score_svc) & (test_score_svc > 0.86):\n",
    "        print(\"test: {:.3f}, train: {:.3f}, RS: {}\".format(test_score_svc,\n",
    "                                                           train_score_svc,\n",
    "                                                           i))\n",
    "# test: 0.864, train: 0.752, RS: 395"
   ]
  },
  {
   "cell_type": "markdown",
   "metadata": {
    "heading_collapsed": true,
    "hidden": true
   },
   "source": [
    "### Best SVC Model"
   ]
  },
  {
   "cell_type": "code",
   "execution_count": 71,
   "metadata": {
    "hidden": true
   },
   "outputs": [
    {
     "data": {
      "text/plain": [
       "SVC(kernel='poly', probability=True)"
      ]
     },
     "execution_count": 71,
     "metadata": {},
     "output_type": "execute_result"
    }
   ],
   "source": [
    "from sklearn.svm import SVC \n",
    "\n",
    "X_train, X_test, y_train, y_test = train_test_split(features,\n",
    "                                                        label,\n",
    "                                                        test_size=0.2,\n",
    "                                                        random_state=395)\n",
    "model_svc = SVC(kernel='poly', probability=True)\n",
    "\n",
    "model_svc.fit(X_train,y_train)"
   ]
  },
  {
   "cell_type": "markdown",
   "metadata": {
    "hidden": true
   },
   "source": [
    "### Confusion Matrix & Classification Report | SVC"
   ]
  },
  {
   "cell_type": "code",
   "execution_count": 72,
   "metadata": {
    "hidden": true
   },
   "outputs": [
    {
     "data": {
      "text/plain": [
       "array([[107,   9],\n",
       "       [ 12,  26]], dtype=int64)"
      ]
     },
     "execution_count": 72,
     "metadata": {},
     "output_type": "execute_result"
    },
    {
     "data": {
      "image/png": "[encoded data removed]",
      "text/plain": [
       "<Figure size 432x288 with 2 Axes>"
      ]
     },
     "metadata": {
      "needs_background": "light"
     },
     "output_type": "display_data"
    }
   ],
   "source": [
    "cm_svc = confusion_matrix(y_test,model_svc.predict(X_test))\n",
    "sns.heatmap(cm_svc, annot= True)\n",
    "cm_svc"
   ]
  },
  {
   "cell_type": "code",
   "execution_count": 73,
   "metadata": {
    "hidden": true
   },
   "outputs": [
    {
     "name": "stdout",
     "output_type": "stream",
     "text": [
      "              precision    recall  f1-score    support\n",
      "0              0.785340  0.900000  0.838770  500.00000\n",
      "1              0.743590  0.541045  0.626350  268.00000\n",
      "accuracy       0.774740  0.774740  0.774740    0.77474\n",
      "macro avg      0.764465  0.720522  0.732560  768.00000\n",
      "weighted avg   0.770771  0.774740  0.764644  768.00000\n",
      "\n",
      "0.663 is the critical accuracy of this model\n"
     ]
    }
   ],
   "source": [
    "report_svc = classification_report(label,model_svc.predict(features), output_dict=True)\n",
    "\n",
    "report_svc_df = pd.DataFrame(report_svc).transpose()\n",
    "\n",
    "print(report_svc_df)\n",
    "\n",
    "print(\"\\n{:.3f} is the critical accuracy of this model\".format((0.785340 + 0.541045 ) / 2))\n",
    "\n",
    "Eval_metric_rk_svc = (0.785340 + 0.541045 ) / 2"
   ]
  },
  {
   "cell_type": "code",
   "execution_count": 74,
   "metadata": {
    "hidden": true
   },
   "outputs": [],
   "source": [
    "# From the Confusion Matrix: \n",
    "# There are 123 Records where a potentially 'Diabetic' person is labeled 'Healthy' (Cannot be tolerated)\n",
    "# Hence We need to also check Precision of '0' and Recall of '1' \n",
    "\n",
    "# 0.663 is the critical accuracy of 'Support Vector Machine Classifier' model -- By Rohan Kunte"
   ]
  },
  {
   "cell_type": "markdown",
   "metadata": {},
   "source": [
    "# <font color = red>Results</font>"
   ]
  },
  {
   "cell_type": "code",
   "execution_count": 75,
   "metadata": {},
   "outputs": [],
   "source": [
    "# We can compare the following Results:\n",
    "\n",
    "# 1. KNN\n",
    "# 2. Logistic Regression\n",
    "# 3. Decision Tree Classifier\n",
    "# 4. Random Forest Classifier (Rejected because no Generalised Model)\n",
    "# 5. Support Vector Classifier\n",
    "\n",
    "# cm_dt , cm_knn, cm_LogReg, cm_svc"
   ]
  },
  {
   "cell_type": "code",
   "execution_count": 76,
   "metadata": {
    "cell_style": "center"
   },
   "outputs": [
    {
     "name": "stdout",
     "output_type": "stream",
     "text": [
      "AUC_knn: 0.845\n",
      "AUC_svc: 0.841\n",
      "AUC_LogReg: 0.842\n",
      "AUC_rf: 0.990\n",
      "AUC_DT: 0.907\n"
     ]
    },
    {
     "data": {
      "text/plain": [
       "[<matplotlib.lines.Line2D at 0x1e5802a4b08>]"
      ]
     },
     "execution_count": 76,
     "metadata": {},
     "output_type": "execute_result"
    },
    {
     "data": {
      "image/png": "[encoded data removed]",
      "text/plain": [
       "<Figure size 432x288 with 1 Axes>"
      ]
     },
     "metadata": {
      "needs_background": "light"
     },
     "output_type": "display_data"
    }
   ],
   "source": [
    "from sklearn.metrics import roc_curve\n",
    "from sklearn.metrics import roc_auc_score\n",
    "\n",
    "AUC = []\n",
    "\n",
    "probs_knn = model_knn.predict_proba(features)\n",
    "probs_knn = probs_knn[:, 1]\n",
    "\n",
    "auc_knn = roc_auc_score(label, probs_knn)\n",
    "print('AUC_knn: %.3f' % auc_knn)\n",
    "\n",
    "fpr_knn, tpr_knn, thresholds_knn = roc_curve(label, probs_knn)\n",
    "\n",
    "plt.plot([0, 1], [0, 1], linestyle='--')\n",
    "plt.plot(fpr_knn, tpr_knn, marker='.')\n",
    "\n",
    "###############\n",
    "\n",
    "\n",
    "probs_svc = model_svc.predict_proba(features)\n",
    "\n",
    "probs_svc = probs_svc[:, 1]\n",
    "\n",
    "auc_svc = roc_auc_score(label, probs_svc)\n",
    "print('AUC_svc: %.3f' % auc_svc)\n",
    "\n",
    "fpr_svc, tpr_svc, thresholds_svc = roc_curve(label, probs_svc)\n",
    "\n",
    "plt.plot([0, 1], [0, 1], linestyle='--')\n",
    "plt.plot(fpr_svc, tpr_svc, marker='.')\n",
    "\n",
    "###############\n",
    "\n",
    "probs_LogReg = model_LogReg.predict_proba(features)\n",
    "probs_LogReg = probs_LogReg[:, 1]\n",
    "\n",
    "auc_LogReg = roc_auc_score(label, probs_LogReg)\n",
    "print('AUC_LogReg: %.3f' % auc_LogReg)\n",
    "\n",
    "fpr_LogReg, tpr_LogReg, thresholds_LogReg = roc_curve(label, probs_LogReg)\n",
    "\n",
    "plt.plot([0, 1], [0, 1], linestyle='--')\n",
    "plt.plot(fpr_LogReg, tpr_LogReg, marker='.')\n",
    "\n",
    "###############\n",
    "\n",
    "probs_rf = model_rf.predict_proba(features)\n",
    "probs_rf = probs_rf[:, 1]\n",
    "\n",
    "auc_rf = roc_auc_score(label, probs_rf)\n",
    "print('AUC_rf: %.3f' % auc_rf)\n",
    "\n",
    "fpr_rf, tpr_rf, thresholds_rf = roc_curve(label, probs_rf)\n",
    "\n",
    "plt.plot([0, 1], [0, 1], linestyle='--')\n",
    "plt.plot(fpr_rf, tpr_rf, marker='.')\n",
    "\n",
    "###############\n",
    "\n",
    "probs_DT = model_DT.predict_proba(features)\n",
    "probs_DT = probs_DT[:, 1]\n",
    "\n",
    "auc_DT = roc_auc_score(label, probs_DT)\n",
    "print('AUC_DT: %.3f' % auc_DT)\n",
    "\n",
    "fpr_DT, tpr_DT, thresholds_DT = roc_curve(label, probs_DT)\n",
    "\n",
    "plt.plot([0, 1], [0, 1], linestyle='--')\n",
    "plt.plot(fpr_DT, tpr_DT, marker='.')"
   ]
  },
  {
   "cell_type": "code",
   "execution_count": 77,
   "metadata": {},
   "outputs": [
    {
     "data": {
      "image/png": "[encoded data removed]",
      "text/plain": [
       "<Figure size 1152x648 with 6 Axes>"
      ]
     },
     "metadata": {
      "needs_background": "light"
     },
     "output_type": "display_data"
    }
   ],
   "source": [
    "'KNN', 'Logistic Regression', 'Decision Tree Classifier','Random Forest Classifier', 'Support Vector Classifier'\n",
    "\n",
    "fig_5,a =  plt.subplots(2,3, figsize=(16, 9))\n",
    "\n",
    "a[0][0].plot([0, 1], [0, 1], linestyle='--')\n",
    "a[0][0].plot(fpr_knn, tpr_knn, marker='.')\n",
    "a[0][0].plot(fpr_LogReg, tpr_LogReg, marker='.')\n",
    "a[0][0].plot(fpr_DT, tpr_DT, marker='.')\n",
    "a[0][0].plot(fpr_rf, tpr_rf, marker='.')\n",
    "a[0][0].plot(fpr_svc, tpr_svc, marker='.')\n",
    "a[0][0].set_title('All')\n",
    "\n",
    "a[1][2].plot(fpr_knn, tpr_knn, marker='.')\n",
    "a[1][2].plot([0, 1], [0, 1], linestyle='--')\n",
    "a[1][2].set_title('KNN (AUC: {:.3f})'.format(auc_knn))\n",
    "\n",
    "a[0][1].plot(fpr_LogReg, tpr_LogReg, marker='.')\n",
    "a[0][1].plot([0, 1], [0, 1], linestyle='--')\n",
    "a[0][1].set_title('Logistic Regression (AUC: {:.3f})'.format(auc_LogReg))\n",
    "\n",
    "\n",
    "a[0][2].plot(fpr_DT, tpr_DT, marker='.')\n",
    "a[0][2].plot([0, 1], [0, 1], linestyle='--')\n",
    "a[0][2].set_title('Decision Tree Classifier (AUC: {:.3f})'.format(auc_DT))\n",
    "\n",
    "a[1][0].plot(fpr_rf, tpr_rf, marker='.')\n",
    "a[1][0].plot([0, 1], [0, 1], linestyle='--')\n",
    "a[1][0].set_title('Random Forest Classifier (AUC: {:.3f})'.format(auc_rf))\n",
    "\n",
    "a[1][1].plot(fpr_svc, tpr_svc, marker='.')\n",
    "a[1][1].plot([0, 1], [0, 1], linestyle='--')\n",
    "a[1][1].set_title('Support Vector Classifier (AUC: {:.3f})'.format(auc_svc))\n",
    "\n",
    "fig_5.suptitle('ROC AUC', fontsize=16)\n",
    "plt.subplots_adjust(hspace=0.4, wspace=0.2)"
   ]
  },
  {
   "cell_type": "code",
   "execution_count": 78,
   "metadata": {},
   "outputs": [
    {
     "name": "stdout",
     "output_type": "stream",
     "text": [
      "PR_knn: 0.765616674252094\n",
      "PR_LogReg: 0.765616674252094\n",
      "PR_DT: 0.8157728266749942\n",
      "PR_rf: 0.9767708343498605\n",
      "PR_svc: 0.7376167519740362\n"
     ]
    },
    {
     "data": {
      "text/plain": [
       "[<matplotlib.lines.Line2D at 0x1e581d4b388>]"
      ]
     },
     "execution_count": 78,
     "metadata": {},
     "output_type": "execute_result"
    },
    {
     "data": {
      "image/png": "[encoded data removed]",
      "text/plain": [
       "<Figure size 432x288 with 1 Axes>"
      ]
     },
     "metadata": {
      "needs_background": "light"
     },
     "output_type": "display_data"
    }
   ],
   "source": [
    "from sklearn.metrics import precision_recall_curve\n",
    "from sklearn.metrics import auc\n",
    "\n",
    "PR = []\n",
    "\n",
    "probabilityValues_knn = model_knn.predict_proba(features)[:, 1]\n",
    "\n",
    "precision_knn, recall_knn, threshold_knn = precision_recall_curve(label, probabilityValues_knn)\n",
    "\n",
    "auc_pr_knn = auc(recall_knn, precision_knn)\n",
    "\n",
    "print(\"PR_knn: {}\".format(auc_pr_knn))\n",
    "\n",
    "plt.plot([0, 1], [0.5, 0.5], linestyle='--')\n",
    "plt.plot(recall_knn, precision_knn)\n",
    "\n",
    "#############################################################################################\n",
    "\n",
    "probabilityValues_LogReg = model_LogReg.predict_proba(features)[:, 1]\n",
    "\n",
    "precision_LogReg, recall_LogReg, threshold_LogReg = precision_recall_curve(label, probabilityValues_LogReg)\n",
    "\n",
    "auc_pr_LogReg = auc(recall_LogReg, precision_LogReg)\n",
    "\n",
    "print(\"PR_LogReg: {}\".format(auc_pr_knn))\n",
    "\n",
    "# plt.plot([0, 1], [0.5, 0.5], linestyle='--')\n",
    "plt.plot(recall_LogReg, precision_LogReg)\n",
    "\n",
    "#############################################################################################\n",
    "\n",
    "probabilityValues_DT = model_DT.predict_proba(features)[:, 1]\n",
    "\n",
    "precision_DT, recall_DT, threshold_DT = precision_recall_curve(label, probabilityValues_DT)\n",
    "\n",
    "auc_pr_DT = auc(recall_DT, precision_DT)\n",
    "\n",
    "print(\"PR_DT: {}\".format(auc_pr_DT))\n",
    "\n",
    "# plt.plot([0, 1], [0.5, 0.5], linestyle='--')\n",
    "plt.plot(recall_DT, precision_DT)\n",
    "\n",
    "#############################################################################################\n",
    "\n",
    "probabilityValues_rf = model_rf.predict_proba(features)[:, 1]\n",
    "\n",
    "precision_rf, recall_rf, threshold_rf = precision_recall_curve(label, probabilityValues_rf)\n",
    "\n",
    "auc_pr_rf = auc(recall_rf, precision_rf)\n",
    "\n",
    "print(\"PR_rf: {}\".format(auc_pr_rf))\n",
    "\n",
    "# plt.plot([0, 1], [0.5, 0.5], linestyle='--')\n",
    "plt.plot(recall_rf, precision_rf)\n",
    "\n",
    "#############################################################################################\n",
    "\n",
    "probabilityValues_svc = model_svc.predict_proba(features)[:, 1]\n",
    "\n",
    "precision_svc, recall_svc, threshold_svc = precision_recall_curve(label, probabilityValues_svc)\n",
    "\n",
    "auc_pr_svc = auc(recall_svc, precision_svc)\n",
    "\n",
    "print(\"PR_svc: {}\".format(auc_pr_svc))\n",
    "\n",
    "# plt.plot([0, 1], [0.5, 0.5], linestyle='--')\n",
    "plt.plot(recall_svc, precision_svc)\n",
    "\n",
    "\n"
   ]
  },
  {
   "cell_type": "code",
   "execution_count": 79,
   "metadata": {},
   "outputs": [
    {
     "data": {
      "image/png": "[encoded data removed]",
      "text/plain": [
       "<Figure size 1152x648 with 6 Axes>"
      ]
     },
     "metadata": {
      "needs_background": "light"
     },
     "output_type": "display_data"
    }
   ],
   "source": [
    "'KNN', 'Logistic Regression', 'Decision Tree Classifier','Random Forest Classifier', 'Support Vector Classifier'\n",
    "\n",
    "fig_5,a =  plt.subplots(2,3, figsize=(16, 9))\n",
    "\n",
    "a[0][0].plot([0, 1], [0.5, 0.5], linestyle='--')\n",
    "a[0][0].plot(recall_knn, precision_knn)\n",
    "a[0][0].plot(recall_LogReg, precision_LogReg)\n",
    "a[0][0].plot(recall_DT, precision_DT)\n",
    "a[0][0].plot(recall_rf, precision_rf)\n",
    "a[0][0].plot(recall_svc, precision_svc)\n",
    "a[0][0].set_title('All')\n",
    "\n",
    "a[1][2].plot(recall_knn, precision_knn)\n",
    "a[1][2].plot([0, 1], [0.5, 0.5], linestyle='--')\n",
    "a[1][2].set_title('KNN (AUC: {:.3f})'.format(auc_pr_knn))\n",
    "\n",
    "a[0][1].plot(recall_LogReg, precision_LogReg)\n",
    "a[0][1].plot([0, 1], [0.5, 0.5], linestyle='--')\n",
    "a[0][1].set_title('Logistic Regression (AUC: {:.3f})'.format(auc_pr_LogReg))\n",
    "\n",
    "\n",
    "a[0][2].plot(recall_DT, precision_DT)\n",
    "a[0][2].plot([0, 1], [0.5, 0.5], linestyle='--')\n",
    "a[0][2].set_title('Decision Tree Classifier (AUC: {:.3f})'.format(auc_pr_DT))\n",
    "\n",
    "a[1][0].plot(recall_rf, precision_rf)\n",
    "a[1][0].plot([0, 1], [0.5, 0.5], linestyle='--')\n",
    "a[1][0].set_title('Random Forest Classifier (AUC: {:.3f})'.format(auc_pr_rf))\n",
    "\n",
    "a[1][1].plot(recall_svc, precision_svc)\n",
    "a[1][1].plot([0, 1], [0.5, 0.5], linestyle='--')\n",
    "a[1][1].set_title('Support Vector Classifier (AUC: {:.3f})'.format(auc_pr_svc))\n",
    "\n",
    "fig_5.suptitle('PR AUC', fontsize=16)\n",
    "plt.subplots_adjust(hspace=0.4, wspace=0.2)"
   ]
  },
  {
   "cell_type": "code",
   "execution_count": 80,
   "metadata": {},
   "outputs": [],
   "source": [
    "cm = [cm_knn, cm_LogReg, cm_dt, cm_rf, cm_svc]\n",
    "\n",
    "def Sen_Spec(cm):\n",
    "    Total = sum(sum(cm))\n",
    "    \n",
    "    Accuracy = (cm[0,0] + cm[1,1]) / Total\n",
    "    \n",
    "    Specificity = cm[0,0] / (cm[0,0] + cm[0,1])\n",
    "    \n",
    "    Sensitivity = cm[1,1] / (cm[1,0] + cm[1,1])\n",
    "    \n",
    "    return(Sensitivity, Specificity)\n",
    "\n",
    "sen_knn, spec_knn = Sen_Spec(cm_knn)\n",
    "sen_LogReg, spec_LogReg = Sen_Spec(cm_LogReg)\n",
    "sen_dt, spec_dt = Sen_Spec(cm_dt)\n",
    "sen_rf, spec_rf = Sen_Spec(cm_rf)\n",
    "sen_svc, spec_svc = Sen_Spec(cm_svc)\n",
    "\n",
    "Sensitivities = [sen_knn, sen_LogReg, sen_dt, sen_rf, sen_svc]\n",
    "Specificities = [spec_knn, spec_LogReg, spec_dt, spec_rf, spec_svc]"
   ]
  },
  {
   "cell_type": "code",
   "execution_count": 81,
   "metadata": {},
   "outputs": [
    {
     "data": {
      "text/html": [
       "<div>\n",
       "<style scoped>\n",
       "    .dataframe tbody tr th:only-of-type {\n",
       "        vertical-align: middle;\n",
       "    }\n",
       "\n",
       "    .dataframe tbody tr th {\n",
       "        vertical-align: top;\n",
       "    }\n",
       "\n",
       "    .dataframe thead th {\n",
       "        text-align: right;\n",
       "    }\n",
       "</style>\n",
       "<table border=\"1\" class=\"dataframe\">\n",
       "  <thead>\n",
       "    <tr style=\"text-align: right;\">\n",
       "      <th></th>\n",
       "      <th>Test_Score</th>\n",
       "      <th>Train_Score</th>\n",
       "      <th>Generalised</th>\n",
       "      <th>Eval_Metric_RK</th>\n",
       "      <th>ROC_AUC</th>\n",
       "      <th>PR AUC</th>\n",
       "      <th>Sensitivity / Recall \"1\"</th>\n",
       "      <th>Specificity / Recall \"0\"</th>\n",
       "    </tr>\n",
       "    <tr>\n",
       "      <th>Model_Name</th>\n",
       "      <th></th>\n",
       "      <th></th>\n",
       "      <th></th>\n",
       "      <th></th>\n",
       "      <th></th>\n",
       "      <th></th>\n",
       "      <th></th>\n",
       "      <th></th>\n",
       "    </tr>\n",
       "  </thead>\n",
       "  <tbody>\n",
       "    <tr>\n",
       "      <th>KNN</th>\n",
       "      <td>0.837662</td>\n",
       "      <td>0.762215</td>\n",
       "      <td>True</td>\n",
       "      <td>0.656492</td>\n",
       "      <td>0.844627</td>\n",
       "      <td>0.765617</td>\n",
       "      <td>0.652174</td>\n",
       "      <td>0.916667</td>\n",
       "    </tr>\n",
       "    <tr>\n",
       "      <th>Logistic Regression</th>\n",
       "      <td>0.870130</td>\n",
       "      <td>0.752443</td>\n",
       "      <td>True</td>\n",
       "      <td>0.682401</td>\n",
       "      <td>0.841530</td>\n",
       "      <td>0.719541</td>\n",
       "      <td>0.695652</td>\n",
       "      <td>0.944444</td>\n",
       "    </tr>\n",
       "    <tr>\n",
       "      <th>Decision Tree Classifier</th>\n",
       "      <td>0.844156</td>\n",
       "      <td>0.832248</td>\n",
       "      <td>True</td>\n",
       "      <td>0.790787</td>\n",
       "      <td>0.906761</td>\n",
       "      <td>0.815773</td>\n",
       "      <td>0.804348</td>\n",
       "      <td>0.861111</td>\n",
       "    </tr>\n",
       "    <tr>\n",
       "      <th>Random Forest Classifier</th>\n",
       "      <td>0.772727</td>\n",
       "      <td>0.998371</td>\n",
       "      <td>False</td>\n",
       "      <td>0.951042</td>\n",
       "      <td>0.989791</td>\n",
       "      <td>0.976771</td>\n",
       "      <td>0.921642</td>\n",
       "      <td>0.970000</td>\n",
       "    </tr>\n",
       "    <tr>\n",
       "      <th>Support Vector Classifier</th>\n",
       "      <td>0.753247</td>\n",
       "      <td>0.768730</td>\n",
       "      <td>True</td>\n",
       "      <td>0.663193</td>\n",
       "      <td>0.841381</td>\n",
       "      <td>0.737617</td>\n",
       "      <td>0.684211</td>\n",
       "      <td>0.922414</td>\n",
       "    </tr>\n",
       "  </tbody>\n",
       "</table>\n",
       "</div>"
      ],
      "text/plain": [
       "                           Test_Score  Train_Score  Generalised  \\\n",
       "Model_Name                                                        \n",
       "KNN                          0.837662     0.762215         True   \n",
       "Logistic Regression          0.870130     0.752443         True   \n",
       "Decision Tree Classifier     0.844156     0.832248         True   \n",
       "Random Forest Classifier     0.772727     0.998371        False   \n",
       "Support Vector Classifier    0.753247     0.768730         True   \n",
       "\n",
       "                           Eval_Metric_RK   ROC_AUC    PR AUC  \\\n",
       "Model_Name                                                      \n",
       "KNN                              0.656492  0.844627  0.765617   \n",
       "Logistic Regression              0.682401  0.841530  0.719541   \n",
       "Decision Tree Classifier         0.790787  0.906761  0.815773   \n",
       "Random Forest Classifier         0.951042  0.989791  0.976771   \n",
       "Support Vector Classifier        0.663193  0.841381  0.737617   \n",
       "\n",
       "                           Sensitivity / Recall \"1\"  Specificity / Recall \"0\"  \n",
       "Model_Name                                                                     \n",
       "KNN                                        0.652174                  0.916667  \n",
       "Logistic Regression                        0.695652                  0.944444  \n",
       "Decision Tree Classifier                   0.804348                  0.861111  \n",
       "Random Forest Classifier                   0.921642                  0.970000  \n",
       "Support Vector Classifier                  0.684211                  0.922414  "
      ]
     },
     "execution_count": 81,
     "metadata": {},
     "output_type": "execute_result"
    }
   ],
   "source": [
    "df_results = pd.DataFrame()\n",
    "\n",
    "df_results['Model_Name'] = ['KNN', 'Logistic Regression', 'Decision Tree Classifier',\n",
    "                            'Random Forest Classifier', 'Support Vector Classifier']\n",
    "\n",
    "df_results['Test_Score'] = [test_score_knn, test_score_LogReg,\n",
    "                            test_score_dt, test_score_rf, test_score_svc]\n",
    "\n",
    "df_results['Train_Score'] = [train_score_knn, train_score_LogReg,\n",
    "                             train_score_dt, train_score_rf, train_score_svc]\n",
    "\n",
    "df_results['Generalised'] = [True, True, True, False, True]\n",
    "\n",
    "df_results['Eval_Metric_RK'] = [Eval_metric_rk_knn, Eval_metric_rk_LogReg,\n",
    "                                Eval_metric_rk_dt, Eval_metric_rk_rf, Eval_metric_rk_svc]\n",
    "\n",
    "df_results['ROC_AUC'] = [auc_knn, auc_LogReg, auc_DT, auc_rf, auc_svc]\n",
    "\n",
    "df_results['PR AUC'] = [auc_pr_knn, auc_pr_LogReg, auc_pr_DT, auc_pr_rf, auc_pr_svc]\n",
    "\n",
    "df_results['Sensitivity / Recall \"1\"'] = Sensitivities\n",
    "\n",
    "df_results['Specificity / Recall \"0\"'] = Specificities\n",
    "\n",
    "df_results_new = df_results.set_index('Model_Name', drop=True)\n",
    "df_results_new"
   ]
  },
  {
   "cell_type": "code",
   "execution_count": 82,
   "metadata": {},
   "outputs": [
    {
     "data": {
      "text/plain": [
       "Text(0.5, 0.98, 'INTOLERABLE CASE: Diabetic Person classified as Diabetic')"
      ]
     },
     "execution_count": 82,
     "metadata": {},
     "output_type": "execute_result"
    },
    {
     "data": {
      "image/png": "[encoded data removed]",
      "text/plain": [
       "<Figure size 432x288 with 1 Axes>"
      ]
     },
     "metadata": {
      "needs_background": "light"
     },
     "output_type": "display_data"
    }
   ],
   "source": [
    "fig, axis = plt.subplots()\n",
    "axis.plot(df_results_new['Sensitivity / Recall \"1\"'])\n",
    "fig.autofmt_xdate()\n",
    "fig.suptitle('INTOLERABLE CASE: Diabetic Person classified as Diabetic', fontsize=16)"
   ]
  },
  {
   "cell_type": "code",
   "execution_count": null,
   "metadata": {},
   "outputs": [],
   "source": []
  }
 ],
 "metadata": {
  "kernelspec": {
   "display_name": "Python 3",
   "language": "python",
   "name": "python3"
  },
  "language_info": {
   "codemirror_mode": {
    "name": "ipython",
    "version": 3
   },
   "file_extension": ".py",
   "mimetype": "text/x-python",
   "name": "python",
   "nbconvert_exporter": "python",
   "pygments_lexer": "ipython3",
   "version": "3.7.6"
  },
  "toc": {
   "base_numbering": 1,
   "nav_menu": {},
   "number_sections": true,
   "sideBar": true,
   "skip_h1_title": false,
   "title_cell": "Table of Contents",
   "title_sidebar": "Contents",
   "toc_cell": false,
   "toc_position": {
    "height": "calc(100% - 180px)",
    "left": "10px",
    "top": "150px",
    "width": "494.188px"
   },
   "toc_section_display": true,
   "toc_window_display": true
  }
 },
 "nbformat": 4,
 "nbformat_minor": 2
}
